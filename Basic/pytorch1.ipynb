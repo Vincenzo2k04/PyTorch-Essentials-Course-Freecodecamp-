{
 "cells": [
  {
   "cell_type": "code",
   "execution_count": 1,
   "id": "b7a1e0b4",
   "metadata": {},
   "outputs": [],
   "source": [
    "import torch\n",
    "import pandas as pd\n",
    "import numpy as np\n",
    "import matplotlib.pyplot as plt"
   ]
  },
  {
   "cell_type": "code",
   "execution_count": 2,
   "id": "4f797729",
   "metadata": {},
   "outputs": [
    {
     "data": {
      "text/plain": [
       "device(type='cuda')"
      ]
     },
     "execution_count": 2,
     "metadata": {},
     "output_type": "execute_result"
    }
   ],
   "source": [
    "device = \"cuda\"\n",
    "torch.device(device)"
   ]
  },
  {
   "cell_type": "markdown",
   "id": "308360e4",
   "metadata": {},
   "source": [
    "**Introduction to tensors**"
   ]
  },
  {
   "cell_type": "markdown",
   "id": "50045a65",
   "metadata": {},
   "source": [
    "Scalar"
   ]
  },
  {
   "cell_type": "code",
   "execution_count": 3,
   "id": "2596d6cb",
   "metadata": {},
   "outputs": [
    {
     "data": {
      "text/plain": [
       "tensor(7)"
      ]
     },
     "execution_count": 3,
     "metadata": {},
     "output_type": "execute_result"
    }
   ],
   "source": [
    "scalar = torch.tensor(7)\n",
    "scalar"
   ]
  },
  {
   "cell_type": "code",
   "execution_count": 4,
   "id": "8174a861",
   "metadata": {},
   "outputs": [
    {
     "data": {
      "text/plain": [
       "0"
      ]
     },
     "execution_count": 4,
     "metadata": {},
     "output_type": "execute_result"
    }
   ],
   "source": [
    "scalar.ndim"
   ]
  },
  {
   "cell_type": "code",
   "execution_count": 5,
   "id": "5bb0db23",
   "metadata": {},
   "outputs": [
    {
     "data": {
      "text/plain": [
       "torch.Size([])"
      ]
     },
     "execution_count": 5,
     "metadata": {},
     "output_type": "execute_result"
    }
   ],
   "source": [
    "scalar.shape"
   ]
  },
  {
   "cell_type": "code",
   "execution_count": 6,
   "id": "1713da38",
   "metadata": {},
   "outputs": [
    {
     "data": {
      "text/plain": [
       "7"
      ]
     },
     "execution_count": 6,
     "metadata": {},
     "output_type": "execute_result"
    }
   ],
   "source": [
    "#Get tensor back as python int\n",
    "scalar.item()"
   ]
  },
  {
   "cell_type": "markdown",
   "id": "7144dcad",
   "metadata": {},
   "source": [
    "Vector"
   ]
  },
  {
   "cell_type": "code",
   "execution_count": 7,
   "id": "8ff650bf",
   "metadata": {},
   "outputs": [
    {
     "data": {
      "text/plain": [
       "tensor([7, 7])"
      ]
     },
     "execution_count": 7,
     "metadata": {},
     "output_type": "execute_result"
    }
   ],
   "source": [
    "vector = torch.tensor([7,7])\n",
    "vector"
   ]
  },
  {
   "cell_type": "code",
   "execution_count": 8,
   "id": "a7e65d02",
   "metadata": {},
   "outputs": [
    {
     "data": {
      "text/plain": [
       "1"
      ]
     },
     "execution_count": 8,
     "metadata": {},
     "output_type": "execute_result"
    }
   ],
   "source": [
    "vector.ndim"
   ]
  },
  {
   "cell_type": "code",
   "execution_count": 9,
   "id": "80b4d980",
   "metadata": {},
   "outputs": [
    {
     "data": {
      "text/plain": [
       "torch.Size([2])"
      ]
     },
     "execution_count": 9,
     "metadata": {},
     "output_type": "execute_result"
    }
   ],
   "source": [
    "vector.shape"
   ]
  },
  {
   "cell_type": "markdown",
   "id": "15f3d9e8",
   "metadata": {},
   "source": [
    "Matrix"
   ]
  },
  {
   "cell_type": "code",
   "execution_count": 10,
   "id": "2b440b4a",
   "metadata": {},
   "outputs": [
    {
     "data": {
      "text/plain": [
       "tensor([[ 7,  8],\n",
       "        [ 9, 10]])"
      ]
     },
     "execution_count": 10,
     "metadata": {},
     "output_type": "execute_result"
    }
   ],
   "source": [
    "MATRIX = torch.tensor([[7,8],\n",
    "                      [9,10]])\n",
    "MATRIX"
   ]
  },
  {
   "cell_type": "code",
   "execution_count": 11,
   "id": "8793d62d",
   "metadata": {},
   "outputs": [
    {
     "data": {
      "text/plain": [
       "2"
      ]
     },
     "execution_count": 11,
     "metadata": {},
     "output_type": "execute_result"
    }
   ],
   "source": [
    "MATRIX.ndim"
   ]
  },
  {
   "cell_type": "code",
   "execution_count": 12,
   "id": "60da12a8",
   "metadata": {},
   "outputs": [
    {
     "data": {
      "text/plain": [
       "torch.Size([2, 2])"
      ]
     },
     "execution_count": 12,
     "metadata": {},
     "output_type": "execute_result"
    }
   ],
   "source": [
    "MATRIX.shape"
   ]
  },
  {
   "cell_type": "markdown",
   "id": "80e646ee",
   "metadata": {},
   "source": [
    "Tensor"
   ]
  },
  {
   "cell_type": "code",
   "execution_count": 13,
   "id": "dbeb15d1",
   "metadata": {},
   "outputs": [
    {
     "data": {
      "text/plain": [
       "tensor([[[1, 2, 3],\n",
       "         [3, 6, 9],\n",
       "         [2, 4, 5]]])"
      ]
     },
     "execution_count": 13,
     "metadata": {},
     "output_type": "execute_result"
    }
   ],
   "source": [
    "TENSOR = torch.tensor([[[1,2,3],\n",
    "                        [3,6,9],\n",
    "                        [2,4,5]]])\n",
    "TENSOR"
   ]
  },
  {
   "cell_type": "code",
   "execution_count": 14,
   "id": "1c7b176a",
   "metadata": {},
   "outputs": [
    {
     "data": {
      "text/plain": [
       "3"
      ]
     },
     "execution_count": 14,
     "metadata": {},
     "output_type": "execute_result"
    }
   ],
   "source": [
    "TENSOR.ndim"
   ]
  },
  {
   "cell_type": "code",
   "execution_count": 15,
   "id": "67b0e78b",
   "metadata": {},
   "outputs": [
    {
     "data": {
      "text/plain": [
       "torch.Size([1, 3, 3])"
      ]
     },
     "execution_count": 15,
     "metadata": {},
     "output_type": "execute_result"
    }
   ],
   "source": [
    "TENSOR.shape"
   ]
  },
  {
   "cell_type": "code",
   "execution_count": 16,
   "id": "6c9d0b81",
   "metadata": {},
   "outputs": [
    {
     "data": {
      "text/plain": [
       "tensor([[1, 2, 3],\n",
       "        [3, 6, 9],\n",
       "        [2, 4, 5]])"
      ]
     },
     "execution_count": 16,
     "metadata": {},
     "output_type": "execute_result"
    }
   ],
   "source": [
    "TENSOR[0]"
   ]
  },
  {
   "cell_type": "markdown",
   "id": "6fd80a52",
   "metadata": {},
   "source": [
    "Random Tensors"
   ]
  },
  {
   "cell_type": "code",
   "execution_count": 17,
   "id": "9f666e30",
   "metadata": {},
   "outputs": [],
   "source": [
    "#Create a random tensor of size (3,4)\n",
    "random_tensor = torch.rand(3,4)"
   ]
  },
  {
   "cell_type": "code",
   "execution_count": 18,
   "id": "2bc7dc3c",
   "metadata": {},
   "outputs": [
    {
     "data": {
      "text/plain": [
       "tensor([[0.3298, 0.9645, 0.0281, 0.6032],\n",
       "        [0.2739, 0.8143, 0.5595, 0.8117],\n",
       "        [0.1582, 0.7446, 0.2162, 0.2506]])"
      ]
     },
     "execution_count": 18,
     "metadata": {},
     "output_type": "execute_result"
    }
   ],
   "source": [
    "random_tensor"
   ]
  },
  {
   "cell_type": "code",
   "execution_count": 19,
   "id": "4d5aaa4d",
   "metadata": {},
   "outputs": [
    {
     "data": {
      "text/plain": [
       "2"
      ]
     },
     "execution_count": 19,
     "metadata": {},
     "output_type": "execute_result"
    }
   ],
   "source": [
    "random_tensor.ndim"
   ]
  },
  {
   "cell_type": "code",
   "execution_count": 20,
   "id": "64708936",
   "metadata": {},
   "outputs": [
    {
     "data": {
      "text/plain": [
       "torch.Size([3, 4])"
      ]
     },
     "execution_count": 20,
     "metadata": {},
     "output_type": "execute_result"
    }
   ],
   "source": [
    "random_tensor.shape"
   ]
  },
  {
   "cell_type": "code",
   "execution_count": 21,
   "id": "3ef810cd",
   "metadata": {},
   "outputs": [],
   "source": [
    "#Create a random tensor of size (2,10,10)\n",
    "random_tensor1 = torch.rand(2,10,10)"
   ]
  },
  {
   "cell_type": "code",
   "execution_count": 22,
   "id": "b69f69d9",
   "metadata": {},
   "outputs": [
    {
     "data": {
      "text/plain": [
       "tensor([[[0.0051, 0.8164, 0.0926, 0.8896, 0.2327, 0.8746, 0.1768, 0.3795,\n",
       "          0.1615, 0.6444],\n",
       "         [0.8246, 0.5878, 0.6556, 0.4352, 0.0693, 0.4991, 0.1874, 0.6599,\n",
       "          0.1971, 0.4158],\n",
       "         [0.1853, 0.5456, 0.2662, 0.0385, 0.9078, 0.9798, 0.9896, 0.6765,\n",
       "          0.0422, 0.4372],\n",
       "         [0.2713, 0.8232, 0.4742, 0.9138, 0.4043, 0.7898, 0.2985, 0.2757,\n",
       "          0.8847, 0.9845],\n",
       "         [0.2785, 0.8820, 0.4536, 0.9539, 0.2847, 0.6207, 0.4761, 0.4132,\n",
       "          0.7632, 0.3728],\n",
       "         [0.0732, 0.6521, 0.0451, 0.2640, 0.4222, 0.5152, 0.1121, 0.8475,\n",
       "          0.2458, 0.1630],\n",
       "         [0.7018, 0.7071, 0.4634, 0.4606, 0.7043, 0.7933, 0.9430, 0.6341,\n",
       "          0.7945, 0.3938],\n",
       "         [0.4526, 0.1552, 0.0942, 0.4147, 0.6824, 0.8273, 0.8371, 0.5409,\n",
       "          0.2779, 0.2179],\n",
       "         [0.2634, 0.8558, 0.6469, 0.4431, 0.8732, 0.3755, 0.3157, 0.9291,\n",
       "          0.9403, 0.5518],\n",
       "         [0.5809, 0.7801, 0.9748, 0.4728, 0.0168, 0.2224, 0.3437, 0.6901,\n",
       "          0.1415, 0.8316]],\n",
       "\n",
       "        [[0.4777, 0.0675, 0.7158, 0.2240, 0.7204, 0.1207, 0.5881, 0.7157,\n",
       "          0.5937, 0.5788],\n",
       "         [0.9431, 0.9980, 0.9902, 0.3569, 0.8539, 0.1919, 0.1022, 0.4360,\n",
       "          0.8825, 0.4678],\n",
       "         [0.2473, 0.5461, 0.0936, 0.1552, 0.9407, 0.4687, 0.0687, 0.4104,\n",
       "          0.9713, 0.2268],\n",
       "         [0.3120, 0.0224, 0.5980, 0.5785, 0.0680, 0.6135, 0.2993, 0.9821,\n",
       "          0.1946, 0.1282],\n",
       "         [0.7302, 0.2233, 0.2761, 0.5913, 0.1465, 0.9452, 0.8940, 0.0923,\n",
       "          0.1108, 0.8683],\n",
       "         [0.9425, 0.5506, 0.9657, 0.8575, 0.2255, 0.5235, 0.7826, 0.0708,\n",
       "          0.2803, 0.3698],\n",
       "         [0.5981, 0.4012, 0.4710, 0.2564, 0.2635, 0.1088, 0.4216, 0.2817,\n",
       "          0.6592, 0.6345],\n",
       "         [0.7714, 0.9027, 0.7306, 0.1305, 0.8686, 0.6931, 0.7635, 0.8821,\n",
       "          0.1212, 0.1113],\n",
       "         [0.1711, 0.6461, 0.6574, 0.8562, 0.0384, 0.8947, 0.6093, 0.7141,\n",
       "          0.4389, 0.4199],\n",
       "         [0.6730, 0.7228, 0.5103, 0.8640, 0.2130, 0.6181, 0.8387, 0.3420,\n",
       "          0.2851, 0.8854]]])"
      ]
     },
     "execution_count": 22,
     "metadata": {},
     "output_type": "execute_result"
    }
   ],
   "source": [
    "random_tensor1"
   ]
  },
  {
   "cell_type": "code",
   "execution_count": 23,
   "id": "a7a16e71",
   "metadata": {},
   "outputs": [
    {
     "data": {
      "text/plain": [
       "3"
      ]
     },
     "execution_count": 23,
     "metadata": {},
     "output_type": "execute_result"
    }
   ],
   "source": [
    "random_tensor1.ndim"
   ]
  },
  {
   "cell_type": "code",
   "execution_count": 24,
   "id": "29ee3d09",
   "metadata": {},
   "outputs": [
    {
     "data": {
      "text/plain": [
       "torch.Size([2, 10, 10])"
      ]
     },
     "execution_count": 24,
     "metadata": {},
     "output_type": "execute_result"
    }
   ],
   "source": [
    "random_tensor1.shape"
   ]
  },
  {
   "cell_type": "code",
   "execution_count": 25,
   "id": "47f3889d",
   "metadata": {},
   "outputs": [],
   "source": [
    "#Create a random tensor with similar shape to an image tensor\n",
    "random_image_size_tensor = torch.rand(3,224,224) #Colour channels,Height,Width"
   ]
  },
  {
   "cell_type": "code",
   "execution_count": 26,
   "id": "f3123ace",
   "metadata": {},
   "outputs": [
    {
     "data": {
      "text/plain": [
       "tensor([[[0.4637, 0.2538, 0.3616,  ..., 0.1541, 0.9971, 0.6534],\n",
       "         [0.6946, 0.1725, 0.4881,  ..., 0.2800, 0.6843, 0.0648],\n",
       "         [0.5010, 0.8042, 0.9746,  ..., 0.1594, 0.8420, 0.5700],\n",
       "         ...,\n",
       "         [0.7961, 0.9937, 0.8375,  ..., 0.3589, 0.9434, 0.7956],\n",
       "         [0.2950, 0.4165, 0.8319,  ..., 0.7222, 0.0326, 0.7150],\n",
       "         [0.2541, 0.5723, 0.7777,  ..., 0.2951, 0.7500, 0.2379]],\n",
       "\n",
       "        [[0.9284, 0.6490, 0.4999,  ..., 0.4314, 0.5953, 0.3063],\n",
       "         [0.8527, 0.3317, 0.3061,  ..., 0.6812, 0.1314, 0.8215],\n",
       "         [0.1994, 0.0180, 0.9974,  ..., 0.9580, 0.0342, 0.5456],\n",
       "         ...,\n",
       "         [0.0481, 0.6419, 0.0974,  ..., 0.6967, 0.8863, 0.5642],\n",
       "         [0.5814, 0.1573, 0.2287,  ..., 0.2671, 0.2455, 0.9530],\n",
       "         [0.1594, 0.2297, 0.2019,  ..., 0.3398, 0.2180, 0.2527]],\n",
       "\n",
       "        [[0.7855, 0.0963, 0.4828,  ..., 0.5111, 0.2275, 0.8008],\n",
       "         [0.0423, 0.8618, 0.2796,  ..., 0.8527, 0.2204, 0.5373],\n",
       "         [0.7337, 0.6772, 0.2658,  ..., 0.1058, 0.1664, 0.8274],\n",
       "         ...,\n",
       "         [0.8049, 0.8482, 0.8331,  ..., 0.8182, 0.1859, 0.4808],\n",
       "         [0.3451, 0.3003, 0.4422,  ..., 0.6875, 0.1676, 0.0891],\n",
       "         [0.5930, 0.0800, 0.0635,  ..., 0.6017, 0.8088, 0.9292]]])"
      ]
     },
     "execution_count": 26,
     "metadata": {},
     "output_type": "execute_result"
    }
   ],
   "source": [
    "random_image_size_tensor"
   ]
  },
  {
   "cell_type": "code",
   "execution_count": 27,
   "id": "75923e89",
   "metadata": {},
   "outputs": [
    {
     "data": {
      "text/plain": [
       "3"
      ]
     },
     "execution_count": 27,
     "metadata": {},
     "output_type": "execute_result"
    }
   ],
   "source": [
    "random_image_size_tensor.ndim"
   ]
  },
  {
   "cell_type": "code",
   "execution_count": 28,
   "id": "05377b86",
   "metadata": {},
   "outputs": [
    {
     "data": {
      "text/plain": [
       "torch.Size([3, 224, 224])"
      ]
     },
     "execution_count": 28,
     "metadata": {},
     "output_type": "execute_result"
    }
   ],
   "source": [
    "random_image_size_tensor.shape"
   ]
  },
  {
   "cell_type": "markdown",
   "id": "50d04927",
   "metadata": {},
   "source": [
    "Zeros and Ones"
   ]
  },
  {
   "cell_type": "code",
   "execution_count": 29,
   "id": "9771dc97",
   "metadata": {},
   "outputs": [
    {
     "data": {
      "text/plain": [
       "tensor([[0., 0., 0., 0.],\n",
       "        [0., 0., 0., 0.],\n",
       "        [0., 0., 0., 0.]])"
      ]
     },
     "execution_count": 29,
     "metadata": {},
     "output_type": "execute_result"
    }
   ],
   "source": [
    "#Create a tensor of all zeros\n",
    "zeros = torch.zeros(3,4)\n",
    "zeros"
   ]
  },
  {
   "cell_type": "code",
   "execution_count": 30,
   "id": "7e3621c7",
   "metadata": {},
   "outputs": [
    {
     "data": {
      "text/plain": [
       "tensor([[1., 1., 1., 1.],\n",
       "        [1., 1., 1., 1.],\n",
       "        [1., 1., 1., 1.]])"
      ]
     },
     "execution_count": 30,
     "metadata": {},
     "output_type": "execute_result"
    }
   ],
   "source": [
    "#Create a tensor of all ones\n",
    "ones = torch.ones(3,4)\n",
    "ones"
   ]
  },
  {
   "cell_type": "code",
   "execution_count": 31,
   "id": "468a0bac",
   "metadata": {},
   "outputs": [
    {
     "data": {
      "text/plain": [
       "torch.float32"
      ]
     },
     "execution_count": 31,
     "metadata": {},
     "output_type": "execute_result"
    }
   ],
   "source": [
    "ones.dtype"
   ]
  },
  {
   "cell_type": "markdown",
   "id": "e31e292e",
   "metadata": {},
   "source": [
    "Create a range of tensors"
   ]
  },
  {
   "cell_type": "code",
   "execution_count": 32,
   "id": "7f44a299",
   "metadata": {},
   "outputs": [
    {
     "data": {
      "text/plain": [
       "tensor([0, 1, 2, 3, 4, 5, 6, 7, 8, 9])"
      ]
     },
     "execution_count": 32,
     "metadata": {},
     "output_type": "execute_result"
    }
   ],
   "source": [
    "#Use torch.range()\n",
    "torch.arange(10)"
   ]
  },
  {
   "cell_type": "code",
   "execution_count": 33,
   "id": "cf6761f5",
   "metadata": {},
   "outputs": [
    {
     "data": {
      "text/plain": [
       "tensor([2, 3, 4, 5, 6, 7, 8, 9])"
      ]
     },
     "execution_count": 33,
     "metadata": {},
     "output_type": "execute_result"
    }
   ],
   "source": [
    "torch.arange(2,10)"
   ]
  },
  {
   "cell_type": "code",
   "execution_count": 34,
   "id": "97e58d48",
   "metadata": {},
   "outputs": [
    {
     "data": {
      "text/plain": [
       "tensor([ 1,  2,  3,  4,  5,  6,  7,  8,  9, 10])"
      ]
     },
     "execution_count": 34,
     "metadata": {},
     "output_type": "execute_result"
    }
   ],
   "source": [
    "one_to_ten = torch.arange(1,11)\n",
    "one_to_ten"
   ]
  },
  {
   "cell_type": "code",
   "execution_count": 35,
   "id": "323d0a34",
   "metadata": {},
   "outputs": [
    {
     "data": {
      "text/plain": [
       "tensor([1, 4, 7])"
      ]
     },
     "execution_count": 35,
     "metadata": {},
     "output_type": "execute_result"
    }
   ],
   "source": [
    "random = torch.arange(start=1, end=10, step=3)\n",
    "random"
   ]
  },
  {
   "cell_type": "code",
   "execution_count": 36,
   "id": "fc32c0e1",
   "metadata": {},
   "outputs": [
    {
     "data": {
      "text/plain": [
       "tensor([0, 0, 0, 0, 0, 0, 0, 0, 0, 0])"
      ]
     },
     "execution_count": 36,
     "metadata": {},
     "output_type": "execute_result"
    }
   ],
   "source": [
    "#Creating tensors like\n",
    "ten_zeros = torch.zeros_like(input=one_to_ten)\n",
    "ten_zeros"
   ]
  },
  {
   "cell_type": "code",
   "execution_count": 37,
   "id": "7f1c6c64",
   "metadata": {},
   "outputs": [
    {
     "data": {
      "text/plain": [
       "tensor([1, 1, 1, 1, 1, 1, 1, 1, 1, 1])"
      ]
     },
     "execution_count": 37,
     "metadata": {},
     "output_type": "execute_result"
    }
   ],
   "source": [
    "ten_ones = torch.ones_like(input=one_to_ten)\n",
    "ten_ones"
   ]
  },
  {
   "cell_type": "markdown",
   "id": "bb8e2bcc",
   "metadata": {},
   "source": [
    "Dealing with tensor data types"
   ]
  },
  {
   "cell_type": "code",
   "execution_count": 38,
   "id": "b90fc583",
   "metadata": {},
   "outputs": [
    {
     "data": {
      "text/plain": [
       "tensor([3., 6., 9.])"
      ]
     },
     "execution_count": 38,
     "metadata": {},
     "output_type": "execute_result"
    }
   ],
   "source": [
    "#Float 32 tensor\n",
    "float_32_tensor = torch.tensor([3.0,6.0,9.0],\n",
    "                               dtype=None,\n",
    "                               device=None,\n",
    "                               requires_grad=False)\n",
    "float_32_tensor"
   ]
  },
  {
   "cell_type": "code",
   "execution_count": 39,
   "id": "d3615574",
   "metadata": {},
   "outputs": [
    {
     "data": {
      "text/plain": [
       "torch.float32"
      ]
     },
     "execution_count": 39,
     "metadata": {},
     "output_type": "execute_result"
    }
   ],
   "source": [
    "float_32_tensor.dtype"
   ]
  },
  {
   "cell_type": "code",
   "execution_count": 40,
   "id": "c1c448f6",
   "metadata": {},
   "outputs": [
    {
     "data": {
      "text/plain": [
       "tensor([3., 6., 9.], dtype=torch.float16)"
      ]
     },
     "execution_count": 40,
     "metadata": {},
     "output_type": "execute_result"
    }
   ],
   "source": [
    "float_16_tensor = torch.tensor([3.0,6.0,9.0],\n",
    "                               dtype=torch.float16,\n",
    "                               device=None,\n",
    "                               requires_grad=False)\n",
    "float_16_tensor"
   ]
  },
  {
   "cell_type": "code",
   "execution_count": 41,
   "id": "076b2133",
   "metadata": {},
   "outputs": [
    {
     "data": {
      "text/plain": [
       "torch.float16"
      ]
     },
     "execution_count": 41,
     "metadata": {},
     "output_type": "execute_result"
    }
   ],
   "source": [
    "float_16_tensor.dtype"
   ]
  },
  {
   "cell_type": "code",
   "execution_count": 42,
   "id": "956ff2d5",
   "metadata": {},
   "outputs": [
    {
     "data": {
      "text/plain": [
       "tensor([3, 6, 9], dtype=torch.int32)"
      ]
     },
     "execution_count": 42,
     "metadata": {},
     "output_type": "execute_result"
    }
   ],
   "source": [
    "int_tensor = torch.tensor([3.0,6.0,9.0],\n",
    "                               dtype=torch.int,\n",
    "                               device=None,\n",
    "                               requires_grad=False)\n",
    "int_tensor"
   ]
  },
  {
   "cell_type": "code",
   "execution_count": 43,
   "id": "f7149ebb",
   "metadata": {},
   "outputs": [
    {
     "data": {
      "text/plain": [
       "tensor([ 9., 36., 81.])"
      ]
     },
     "execution_count": 43,
     "metadata": {},
     "output_type": "execute_result"
    }
   ],
   "source": [
    "int_tensor * float_32_tensor #Might not always be possible if tensors of different dtypes"
   ]
  },
  {
   "cell_type": "markdown",
   "id": "8fbb5bde",
   "metadata": {},
   "source": [
    "Getting information from tensors"
   ]
  },
  {
   "cell_type": "code",
   "execution_count": 44,
   "id": "a7efb1ea",
   "metadata": {},
   "outputs": [
    {
     "data": {
      "text/plain": [
       "tensor([[0.7686, 0.6724, 0.5841, 0.0355],\n",
       "        [0.8096, 0.0422, 0.1665, 0.1097],\n",
       "        [0.3759, 0.6305, 0.6748, 0.2317]])"
      ]
     },
     "execution_count": 44,
     "metadata": {},
     "output_type": "execute_result"
    }
   ],
   "source": [
    "#Create a tensor\n",
    "some_tensor = torch.rand(3,4)\n",
    "some_tensor"
   ]
  },
  {
   "cell_type": "code",
   "execution_count": 45,
   "id": "4f165015",
   "metadata": {},
   "outputs": [
    {
     "name": "stdout",
     "output_type": "stream",
     "text": [
      "tensor([[0.7686, 0.6724, 0.5841, 0.0355],\n",
      "        [0.8096, 0.0422, 0.1665, 0.1097],\n",
      "        [0.3759, 0.6305, 0.6748, 0.2317]])\n",
      "Datatype of tensor: torch.float32\n",
      "Shape of tensor: torch.Size([3, 4])\n",
      "Device tensor is on: cpu\n"
     ]
    }
   ],
   "source": [
    "print(some_tensor)\n",
    "print(f\"Datatype of tensor: {some_tensor.dtype}\")\n",
    "print(f\"Shape of tensor: {some_tensor.shape}\")\n",
    "print(f\"Device tensor is on: {some_tensor.device}\")"
   ]
  },
  {
   "cell_type": "markdown",
   "id": "fc82a44e",
   "metadata": {},
   "source": [
    "Manipulating Tensors (Basics)"
   ]
  },
  {
   "cell_type": "code",
   "execution_count": 46,
   "id": "17f1bff3",
   "metadata": {},
   "outputs": [
    {
     "data": {
      "text/plain": [
       "tensor([11, 12, 13])"
      ]
     },
     "execution_count": 46,
     "metadata": {},
     "output_type": "execute_result"
    }
   ],
   "source": [
    "#Addition\n",
    "tensor1 = torch.tensor([1,2,3])\n",
    "tensor1 + 10"
   ]
  },
  {
   "cell_type": "code",
   "execution_count": 47,
   "id": "1ee633c7",
   "metadata": {},
   "outputs": [
    {
     "data": {
      "text/plain": [
       "tensor([10, 20, 30])"
      ]
     },
     "execution_count": 47,
     "metadata": {},
     "output_type": "execute_result"
    }
   ],
   "source": [
    "#Multiplication\n",
    "tensor1 * 10"
   ]
  },
  {
   "cell_type": "code",
   "execution_count": 48,
   "id": "65e6435c",
   "metadata": {},
   "outputs": [
    {
     "data": {
      "text/plain": [
       "tensor([1, 2, 3])"
      ]
     },
     "execution_count": 48,
     "metadata": {},
     "output_type": "execute_result"
    }
   ],
   "source": [
    "tensor1"
   ]
  },
  {
   "cell_type": "code",
   "execution_count": 49,
   "id": "d621e0b5",
   "metadata": {},
   "outputs": [
    {
     "data": {
      "text/plain": [
       "tensor([-9, -8, -7])"
      ]
     },
     "execution_count": 49,
     "metadata": {},
     "output_type": "execute_result"
    }
   ],
   "source": [
    "#Substract\n",
    "tensor1 - 10"
   ]
  },
  {
   "cell_type": "code",
   "execution_count": 50,
   "id": "a51d3cd6",
   "metadata": {},
   "outputs": [
    {
     "data": {
      "text/plain": [
       "tensor([10, 20, 30])"
      ]
     },
     "execution_count": 50,
     "metadata": {},
     "output_type": "execute_result"
    }
   ],
   "source": [
    "#Torch inbuilt functions\n",
    "torch.mul(tensor1, 10)"
   ]
  },
  {
   "cell_type": "code",
   "execution_count": 51,
   "id": "59d933fa",
   "metadata": {},
   "outputs": [
    {
     "data": {
      "text/plain": [
       "tensor([11, 12, 13])"
      ]
     },
     "execution_count": 51,
     "metadata": {},
     "output_type": "execute_result"
    }
   ],
   "source": [
    "torch.add(tensor1, 10)"
   ]
  },
  {
   "cell_type": "markdown",
   "id": "a3989306",
   "metadata": {},
   "source": [
    "Matrix Multiplication"
   ]
  },
  {
   "cell_type": "code",
   "execution_count": 52,
   "id": "153dbfc2",
   "metadata": {},
   "outputs": [
    {
     "name": "stdout",
     "output_type": "stream",
     "text": [
      "tensor([1, 2, 3]) * tensor([1, 2, 3])\n",
      "Equals: tensor([1, 4, 9])\n"
     ]
    }
   ],
   "source": [
    "#Element wise multiplication\n",
    "print(tensor1, \"*\", tensor1)\n",
    "print(f\"Equals: {tensor1*tensor1}\")"
   ]
  },
  {
   "cell_type": "code",
   "execution_count": 53,
   "id": "f0be3c6f",
   "metadata": {},
   "outputs": [
    {
     "data": {
      "text/plain": [
       "tensor(14)"
      ]
     },
     "execution_count": 53,
     "metadata": {},
     "output_type": "execute_result"
    }
   ],
   "source": [
    "torch.matmul(tensor1,tensor1)"
   ]
  },
  {
   "cell_type": "code",
   "execution_count": 54,
   "id": "d0127e69",
   "metadata": {},
   "outputs": [
    {
     "data": {
      "text/plain": [
       "14"
      ]
     },
     "execution_count": 54,
     "metadata": {},
     "output_type": "execute_result"
    }
   ],
   "source": [
    "#Matrix multiplication by hand\n",
    "1*1 + 2*2 + 3*3"
   ]
  },
  {
   "cell_type": "code",
   "execution_count": 55,
   "id": "f35c02c0",
   "metadata": {},
   "outputs": [
    {
     "name": "stdout",
     "output_type": "stream",
     "text": [
      "tensor(14)\n",
      "CPU times: total: 0 ns\n",
      "Wall time: 1.76 ms\n"
     ]
    }
   ],
   "source": [
    "%%time\n",
    "value = 0\n",
    "for i in range(len(tensor1)):\n",
    "    value += tensor1[i] * tensor1[i]\n",
    "print(value)"
   ]
  },
  {
   "cell_type": "code",
   "execution_count": 56,
   "id": "44a13f63",
   "metadata": {},
   "outputs": [
    {
     "name": "stdout",
     "output_type": "stream",
     "text": [
      "CPU times: total: 0 ns\n",
      "Wall time: 0 ns\n"
     ]
    },
    {
     "data": {
      "text/plain": [
       "tensor(14)"
      ]
     },
     "execution_count": 56,
     "metadata": {},
     "output_type": "execute_result"
    }
   ],
   "source": [
    "%%time\n",
    "torch.matmul(tensor1,tensor1)"
   ]
  },
  {
   "cell_type": "code",
   "execution_count": 57,
   "id": "3171317c",
   "metadata": {},
   "outputs": [
    {
     "data": {
      "text/plain": [
       "tensor(14)"
      ]
     },
     "execution_count": 57,
     "metadata": {},
     "output_type": "execute_result"
    }
   ],
   "source": [
    "tensor1 @ tensor1"
   ]
  },
  {
   "cell_type": "code",
   "execution_count": 58,
   "id": "3a5cc79c",
   "metadata": {},
   "outputs": [
    {
     "name": "stdout",
     "output_type": "stream",
     "text": [
      "CPU times: total: 0 ns\n",
      "Wall time: 2.02 ms\n"
     ]
    },
    {
     "data": {
      "text/plain": [
       "tensor(14)"
      ]
     },
     "execution_count": 58,
     "metadata": {},
     "output_type": "execute_result"
    }
   ],
   "source": [
    "%%time\n",
    "tensor1 @ tensor1"
   ]
  },
  {
   "cell_type": "code",
   "execution_count": 59,
   "id": "d5846c22",
   "metadata": {},
   "outputs": [
    {
     "data": {
      "text/plain": [
       "tensor([[0.8816, 0.8343],\n",
       "        [0.6282, 0.6220]])"
      ]
     },
     "execution_count": 59,
     "metadata": {},
     "output_type": "execute_result"
    }
   ],
   "source": [
    "torch.matmul(torch.rand(2,3),torch.rand(3,2))"
   ]
  },
  {
   "cell_type": "code",
   "execution_count": 60,
   "id": "6b08d25b",
   "metadata": {},
   "outputs": [
    {
     "data": {
      "text/plain": [
       "tensor([[0.3469, 0.5501],\n",
       "        [0.7177, 0.4338]])"
      ]
     },
     "execution_count": 60,
     "metadata": {},
     "output_type": "execute_result"
    }
   ],
   "source": [
    "torch.mm(torch.rand(2,3),torch.rand(3,2)) #Replacement for matmul (the same thing but short)"
   ]
  },
  {
   "cell_type": "code",
   "execution_count": 61,
   "id": "2b95c9d9",
   "metadata": {},
   "outputs": [],
   "source": [
    "tensor = torch.rand(3,4)"
   ]
  },
  {
   "cell_type": "code",
   "execution_count": 62,
   "id": "4984417e",
   "metadata": {},
   "outputs": [
    {
     "data": {
      "text/plain": [
       "tensor([[0.1510, 0.6936, 0.0246, 0.2715],\n",
       "        [0.0343, 0.1821, 0.7592, 0.8865],\n",
       "        [0.4716, 0.9087, 0.1151, 0.0152]])"
      ]
     },
     "execution_count": 62,
     "metadata": {},
     "output_type": "execute_result"
    }
   ],
   "source": [
    "tensor"
   ]
  },
  {
   "cell_type": "code",
   "execution_count": 63,
   "id": "6f4de083",
   "metadata": {},
   "outputs": [
    {
     "data": {
      "text/plain": [
       "tensor([[0.1510, 0.0343, 0.4716],\n",
       "        [0.6936, 0.1821, 0.9087],\n",
       "        [0.0246, 0.7592, 0.1151],\n",
       "        [0.2715, 0.8865, 0.0152]])"
      ]
     },
     "execution_count": 63,
     "metadata": {},
     "output_type": "execute_result"
    }
   ],
   "source": [
    "tensor.T #Gives transpose ie. (3,4) to (4,3)"
   ]
  },
  {
   "cell_type": "markdown",
   "id": "4307cf7c",
   "metadata": {},
   "source": [
    "Max, Mean & Sum"
   ]
  },
  {
   "cell_type": "code",
   "execution_count": 64,
   "id": "d1af6130",
   "metadata": {},
   "outputs": [
    {
     "data": {
      "text/plain": [
       "tensor([ 0, 10, 20, 30, 40, 50, 60, 70, 80, 90])"
      ]
     },
     "execution_count": 64,
     "metadata": {},
     "output_type": "execute_result"
    }
   ],
   "source": [
    "x = torch.arange(0,100,10)\n",
    "x"
   ]
  },
  {
   "cell_type": "code",
   "execution_count": 65,
   "id": "f0aef931",
   "metadata": {},
   "outputs": [
    {
     "data": {
      "text/plain": [
       "tensor(0)"
      ]
     },
     "execution_count": 65,
     "metadata": {},
     "output_type": "execute_result"
    }
   ],
   "source": [
    "x.min()"
   ]
  },
  {
   "cell_type": "code",
   "execution_count": 66,
   "id": "8a4681a9",
   "metadata": {},
   "outputs": [
    {
     "data": {
      "text/plain": [
       "tensor(0)"
      ]
     },
     "execution_count": 66,
     "metadata": {},
     "output_type": "execute_result"
    }
   ],
   "source": [
    "torch.min(x)"
   ]
  },
  {
   "cell_type": "code",
   "execution_count": 67,
   "id": "b9e39712",
   "metadata": {},
   "outputs": [
    {
     "data": {
      "text/plain": [
       "tensor(90)"
      ]
     },
     "execution_count": 67,
     "metadata": {},
     "output_type": "execute_result"
    }
   ],
   "source": [
    "x.max()"
   ]
  },
  {
   "cell_type": "code",
   "execution_count": 68,
   "id": "25ba3dc5",
   "metadata": {},
   "outputs": [
    {
     "data": {
      "text/plain": [
       "tensor(90)"
      ]
     },
     "execution_count": 68,
     "metadata": {},
     "output_type": "execute_result"
    }
   ],
   "source": [
    "torch.max(x)"
   ]
  },
  {
   "cell_type": "code",
   "execution_count": 70,
   "id": "a5ff77f3",
   "metadata": {},
   "outputs": [
    {
     "ename": "RuntimeError",
     "evalue": "mean(): could not infer output dtype. Input dtype must be either a floating point or complex dtype. Got: Long",
     "output_type": "error",
     "traceback": [
      "\u001b[31m---------------------------------------------------------------------------\u001b[39m",
      "\u001b[31mRuntimeError\u001b[39m                              Traceback (most recent call last)",
      "\u001b[36mCell\u001b[39m\u001b[36m \u001b[39m\u001b[32mIn[70]\u001b[39m\u001b[32m, line 1\u001b[39m\n\u001b[32m----> \u001b[39m\u001b[32m1\u001b[39m \u001b[43mtorch\u001b[49m\u001b[43m.\u001b[49m\u001b[43mmean\u001b[49m\u001b[43m(\u001b[49m\u001b[43mx\u001b[49m\u001b[43m)\u001b[49m\n",
      "\u001b[31mRuntimeError\u001b[39m: mean(): could not infer output dtype. Input dtype must be either a floating point or complex dtype. Got: Long"
     ]
    }
   ],
   "source": [
    "torch.mean(x)"
   ]
  },
  {
   "cell_type": "code",
   "execution_count": 72,
   "id": "0a5f8c3b",
   "metadata": {},
   "outputs": [
    {
     "data": {
      "text/plain": [
       "tensor(45.)"
      ]
     },
     "execution_count": 72,
     "metadata": {},
     "output_type": "execute_result"
    }
   ],
   "source": [
    "torch.mean(x.type(torch.float32))"
   ]
  },
  {
   "cell_type": "code",
   "execution_count": 73,
   "id": "23e2a85f",
   "metadata": {},
   "outputs": [
    {
     "data": {
      "text/plain": [
       "tensor(40.)"
      ]
     },
     "execution_count": 73,
     "metadata": {},
     "output_type": "execute_result"
    }
   ],
   "source": [
    "torch.median(x.type(torch.float32))"
   ]
  },
  {
   "cell_type": "code",
   "execution_count": 74,
   "id": "39a823c3",
   "metadata": {},
   "outputs": [
    {
     "data": {
      "text/plain": [
       "torch.return_types.mode(\n",
       "values=tensor(0.),\n",
       "indices=tensor(0))"
      ]
     },
     "execution_count": 74,
     "metadata": {},
     "output_type": "execute_result"
    }
   ],
   "source": [
    "torch.mode(x.type(torch.float32))"
   ]
  },
  {
   "cell_type": "code",
   "execution_count": 75,
   "id": "baa8d2a0",
   "metadata": {},
   "outputs": [
    {
     "data": {
      "text/plain": [
       "tensor(450)"
      ]
     },
     "execution_count": 75,
     "metadata": {},
     "output_type": "execute_result"
    }
   ],
   "source": [
    "x.sum()"
   ]
  },
  {
   "cell_type": "code",
   "execution_count": 76,
   "id": "8fbf6249",
   "metadata": {},
   "outputs": [
    {
     "data": {
      "text/plain": [
       "tensor(450)"
      ]
     },
     "execution_count": 76,
     "metadata": {},
     "output_type": "execute_result"
    }
   ],
   "source": [
    "torch.sum(x)"
   ]
  },
  {
   "cell_type": "markdown",
   "id": "171b0cc6",
   "metadata": {},
   "source": [
    "Finding the positional min and max tensors"
   ]
  },
  {
   "cell_type": "code",
   "execution_count": 77,
   "id": "8106a31c",
   "metadata": {},
   "outputs": [
    {
     "data": {
      "text/plain": [
       "tensor(9)"
      ]
     },
     "execution_count": 77,
     "metadata": {},
     "output_type": "execute_result"
    }
   ],
   "source": [
    "torch.argmax(x.type(torch.float32))"
   ]
  },
  {
   "cell_type": "code",
   "execution_count": 78,
   "id": "f31e7a8e",
   "metadata": {},
   "outputs": [
    {
     "data": {
      "text/plain": [
       "tensor(0)"
      ]
     },
     "execution_count": 78,
     "metadata": {},
     "output_type": "execute_result"
    }
   ],
   "source": [
    "torch.argmin(x.type(torch.float32))"
   ]
  },
  {
   "cell_type": "code",
   "execution_count": 79,
   "id": "5378c4b2",
   "metadata": {},
   "outputs": [
    {
     "data": {
      "text/plain": [
       "tensor(0)"
      ]
     },
     "execution_count": 79,
     "metadata": {},
     "output_type": "execute_result"
    }
   ],
   "source": [
    "x.argmin()"
   ]
  },
  {
   "cell_type": "code",
   "execution_count": 80,
   "id": "47719795",
   "metadata": {},
   "outputs": [
    {
     "data": {
      "text/plain": [
       "tensor(9)"
      ]
     },
     "execution_count": 80,
     "metadata": {},
     "output_type": "execute_result"
    }
   ],
   "source": [
    "x.argmax()"
   ]
  },
  {
   "cell_type": "markdown",
   "id": "e5b354cf",
   "metadata": {},
   "source": [
    "Reshaping,viewing and stacking"
   ]
  },
  {
   "cell_type": "code",
   "execution_count": 81,
   "id": "2d9fca6b",
   "metadata": {},
   "outputs": [
    {
     "data": {
      "text/plain": [
       "(tensor([1., 2., 3., 4., 5., 6., 7., 8., 9.]), torch.Size([9]))"
      ]
     },
     "execution_count": 81,
     "metadata": {},
     "output_type": "execute_result"
    }
   ],
   "source": [
    "y = torch.arange(1., 10.)\n",
    "y, y.shape"
   ]
  },
  {
   "cell_type": "code",
   "execution_count": 82,
   "id": "c9dfaa6e",
   "metadata": {},
   "outputs": [
    {
     "data": {
      "text/plain": [
       "(tensor([[1., 2., 3., 4., 5., 6., 7., 8., 9.]]), torch.Size([1, 9]))"
      ]
     },
     "execution_count": 82,
     "metadata": {},
     "output_type": "execute_result"
    }
   ],
   "source": [
    "#Reshape (Adding dimension)\n",
    "y_reshaped = y.reshape(1, 9)\n",
    "y_reshaped, y_reshaped.shape"
   ]
  },
  {
   "cell_type": "code",
   "execution_count": null,
   "id": "6165bdd1",
   "metadata": {},
   "outputs": [
    {
     "data": {
      "text/plain": [
       "(tensor([[1., 2., 3., 4., 5., 6., 7., 8., 9.]]), torch.Size([1, 9]))"
      ]
     },
     "execution_count": 84,
     "metadata": {},
     "output_type": "execute_result"
    }
   ],
   "source": [
    "#Changing its view\n",
    "z = y.view(1, 9) #Changing z changes y\n",
    "z, z.shape"
   ]
  },
  {
   "cell_type": "code",
   "execution_count": 86,
   "id": "46530374",
   "metadata": {},
   "outputs": [
    {
     "data": {
      "text/plain": [
       "(tensor([[5., 2., 3., 4., 5., 6., 7., 8., 9.]]),\n",
       " tensor([5., 2., 3., 4., 5., 6., 7., 8., 9.]))"
      ]
     },
     "execution_count": 86,
     "metadata": {},
     "output_type": "execute_result"
    }
   ],
   "source": [
    "z[:, 0] = 5\n",
    "z, y"
   ]
  },
  {
   "cell_type": "code",
   "execution_count": 89,
   "id": "a6b0aa74",
   "metadata": {},
   "outputs": [
    {
     "data": {
      "text/plain": [
       "tensor([[5., 2., 3., 4., 5., 6., 7., 8., 9.],\n",
       "        [5., 2., 3., 4., 5., 6., 7., 8., 9.],\n",
       "        [5., 2., 3., 4., 5., 6., 7., 8., 9.],\n",
       "        [5., 2., 3., 4., 5., 6., 7., 8., 9.]])"
      ]
     },
     "execution_count": 89,
     "metadata": {},
     "output_type": "execute_result"
    }
   ],
   "source": [
    "#Stack tensors on each other\n",
    "y_stacked = torch.stack([y, y, y, y])\n",
    "y_stacked"
   ]
  },
  {
   "cell_type": "code",
   "execution_count": 90,
   "id": "e121ad71",
   "metadata": {},
   "outputs": [
    {
     "data": {
      "text/plain": [
       "tensor([[5., 5., 5., 5.],\n",
       "        [2., 2., 2., 2.],\n",
       "        [3., 3., 3., 3.],\n",
       "        [4., 4., 4., 4.],\n",
       "        [5., 5., 5., 5.],\n",
       "        [6., 6., 6., 6.],\n",
       "        [7., 7., 7., 7.],\n",
       "        [8., 8., 8., 8.],\n",
       "        [9., 9., 9., 9.]])"
      ]
     },
     "execution_count": 90,
     "metadata": {},
     "output_type": "execute_result"
    }
   ],
   "source": [
    "y_stacked = torch.stack([y, y, y, y], dim=1)\n",
    "y_stacked"
   ]
  },
  {
   "cell_type": "markdown",
   "id": "8f5bbc48",
   "metadata": {},
   "source": [
    "Squeeze,Unsqueeze & Permute"
   ]
  },
  {
   "cell_type": "code",
   "execution_count": 91,
   "id": "15bcc315",
   "metadata": {},
   "outputs": [
    {
     "data": {
      "text/plain": [
       "tensor([5., 2., 3., 4., 5., 6., 7., 8., 9.])"
      ]
     },
     "execution_count": 91,
     "metadata": {},
     "output_type": "execute_result"
    }
   ],
   "source": [
    "y_reshaped.squeeze()"
   ]
  },
  {
   "cell_type": "code",
   "execution_count": 92,
   "id": "e2e2a349",
   "metadata": {},
   "outputs": [
    {
     "data": {
      "text/plain": [
       "torch.Size([9])"
      ]
     },
     "execution_count": 92,
     "metadata": {},
     "output_type": "execute_result"
    }
   ],
   "source": [
    "y_reshaped.squeeze().shape"
   ]
  },
  {
   "cell_type": "code",
   "execution_count": 94,
   "id": "c03c6f66",
   "metadata": {},
   "outputs": [
    {
     "data": {
      "text/plain": [
       "tensor([[[5.],\n",
       "         [2.],\n",
       "         [3.],\n",
       "         [4.],\n",
       "         [5.],\n",
       "         [6.],\n",
       "         [7.],\n",
       "         [8.],\n",
       "         [9.]]])"
      ]
     },
     "execution_count": 94,
     "metadata": {},
     "output_type": "execute_result"
    }
   ],
   "source": [
    "y_reshaped.unsqueeze(dim=2)"
   ]
  },
  {
   "cell_type": "code",
   "execution_count": 95,
   "id": "c2e33379",
   "metadata": {},
   "outputs": [
    {
     "data": {
      "text/plain": [
       "torch.Size([1, 9, 1])"
      ]
     },
     "execution_count": 95,
     "metadata": {},
     "output_type": "execute_result"
    }
   ],
   "source": [
    "y_reshaped.unsqueeze(dim=2).shape"
   ]
  },
  {
   "cell_type": "code",
   "execution_count": 96,
   "id": "3a105c3e",
   "metadata": {},
   "outputs": [
    {
     "data": {
      "text/plain": [
       "tensor([[[5., 2., 3., 4., 5., 6., 7., 8., 9.]]])"
      ]
     },
     "execution_count": 96,
     "metadata": {},
     "output_type": "execute_result"
    }
   ],
   "source": [
    "y_reshaped.unsqueeze(dim=1)"
   ]
  },
  {
   "cell_type": "code",
   "execution_count": 97,
   "id": "8e52c223",
   "metadata": {},
   "outputs": [
    {
     "data": {
      "text/plain": [
       "torch.Size([1, 1, 9])"
      ]
     },
     "execution_count": 97,
     "metadata": {},
     "output_type": "execute_result"
    }
   ],
   "source": [
    "y_reshaped.unsqueeze(dim=1).shape"
   ]
  },
  {
   "cell_type": "code",
   "execution_count": 101,
   "id": "c52f50ab",
   "metadata": {},
   "outputs": [
    {
     "data": {
      "text/plain": [
       "torch.Size([1, 9])"
      ]
     },
     "execution_count": 101,
     "metadata": {},
     "output_type": "execute_result"
    }
   ],
   "source": [
    "y_reshaped.squeeze().unsqueeze(dim=0).shape"
   ]
  },
  {
   "cell_type": "code",
   "execution_count": null,
   "id": "74d82d82",
   "metadata": {},
   "outputs": [
    {
     "name": "stdout",
     "output_type": "stream",
     "text": [
      "Old shape torch.Size([224, 224, 3]) & New shape torch.Size([3, 224, 224])\n"
     ]
    }
   ],
   "source": [
    "t = torch.rand(224,224,3)\n",
    "s = t.permute(2,0,1) #Shifts axis 0->1, 1->2, 2->3\n",
    "print(f\"Old shape {t.shape} & New shape {s.shape}\")"
   ]
  },
  {
   "cell_type": "code",
   "execution_count": 107,
   "id": "fe254f2e",
   "metadata": {},
   "outputs": [],
   "source": [
    "t[0,0,0] = 0.68"
   ]
  },
  {
   "cell_type": "code",
   "execution_count": 108,
   "id": "c53fd6ee",
   "metadata": {},
   "outputs": [
    {
     "data": {
      "text/plain": [
       "tensor([[[0.6800, 0.6652, 0.9249],\n",
       "         [0.2054, 0.6734, 0.6304],\n",
       "         [0.9810, 0.3596, 0.3845],\n",
       "         ...,\n",
       "         [0.4552, 0.3659, 0.5693],\n",
       "         [0.0954, 0.8672, 0.1184],\n",
       "         [0.0548, 0.6919, 0.5126]],\n",
       "\n",
       "        [[0.7103, 0.9099, 0.5655],\n",
       "         [0.9286, 0.3393, 0.6498],\n",
       "         [0.5957, 0.7069, 0.6106],\n",
       "         ...,\n",
       "         [0.6961, 0.3421, 0.1338],\n",
       "         [0.0208, 0.5012, 0.0319],\n",
       "         [0.7454, 0.3002, 0.1495]],\n",
       "\n",
       "        [[0.8544, 0.1387, 0.0742],\n",
       "         [0.9296, 0.9875, 0.5622],\n",
       "         [0.5290, 0.6471, 0.6356],\n",
       "         ...,\n",
       "         [0.3697, 0.2170, 0.3669],\n",
       "         [0.4989, 0.7095, 0.0591],\n",
       "         [0.7841, 0.3522, 0.6009]],\n",
       "\n",
       "        ...,\n",
       "\n",
       "        [[0.8922, 0.4211, 0.1305],\n",
       "         [0.6730, 0.8749, 0.2159],\n",
       "         [0.3846, 0.9585, 0.6940],\n",
       "         ...,\n",
       "         [0.3188, 0.2749, 0.0937],\n",
       "         [0.8340, 0.2208, 0.7305],\n",
       "         [0.3309, 0.9860, 0.5878]],\n",
       "\n",
       "        [[0.6402, 0.7326, 0.8829],\n",
       "         [0.1844, 0.5900, 0.1701],\n",
       "         [0.1382, 0.7322, 0.2775],\n",
       "         ...,\n",
       "         [0.1026, 0.0416, 0.7521],\n",
       "         [0.8291, 0.7853, 0.3520],\n",
       "         [0.5953, 0.2049, 0.4357]],\n",
       "\n",
       "        [[0.2307, 0.0703, 0.4268],\n",
       "         [0.2726, 0.9407, 0.8092],\n",
       "         [0.5494, 0.2400, 0.3876],\n",
       "         ...,\n",
       "         [0.6026, 0.2584, 0.2406],\n",
       "         [0.1927, 0.6662, 0.0367],\n",
       "         [0.7767, 0.3015, 0.2022]]])"
      ]
     },
     "execution_count": 108,
     "metadata": {},
     "output_type": "execute_result"
    }
   ],
   "source": [
    "t"
   ]
  },
  {
   "cell_type": "markdown",
   "id": "5e1a0b1a",
   "metadata": {},
   "source": [
    "Indexing"
   ]
  },
  {
   "cell_type": "code",
   "execution_count": 109,
   "id": "55033375",
   "metadata": {},
   "outputs": [
    {
     "data": {
      "text/plain": [
       "(tensor([[[1, 2, 3],\n",
       "          [4, 5, 6],\n",
       "          [7, 8, 9]]]),\n",
       " torch.Size([1, 3, 3]))"
      ]
     },
     "execution_count": 109,
     "metadata": {},
     "output_type": "execute_result"
    }
   ],
   "source": [
    "a = torch.arange(1, 10).reshape(1,3,3)\n",
    "a, a.shape"
   ]
  },
  {
   "cell_type": "code",
   "execution_count": 110,
   "id": "d5cc670e",
   "metadata": {},
   "outputs": [
    {
     "data": {
      "text/plain": [
       "tensor([[1, 2, 3],\n",
       "        [4, 5, 6],\n",
       "        [7, 8, 9]])"
      ]
     },
     "execution_count": 110,
     "metadata": {},
     "output_type": "execute_result"
    }
   ],
   "source": [
    "a[0]"
   ]
  },
  {
   "cell_type": "code",
   "execution_count": 111,
   "id": "c2a6ece6",
   "metadata": {},
   "outputs": [
    {
     "data": {
      "text/plain": [
       "tensor([1, 2, 3])"
      ]
     },
     "execution_count": 111,
     "metadata": {},
     "output_type": "execute_result"
    }
   ],
   "source": [
    "a[0][0]"
   ]
  },
  {
   "cell_type": "code",
   "execution_count": 112,
   "id": "5f8f167e",
   "metadata": {},
   "outputs": [
    {
     "data": {
      "text/plain": [
       "tensor([1, 2, 3])"
      ]
     },
     "execution_count": 112,
     "metadata": {},
     "output_type": "execute_result"
    }
   ],
   "source": [
    "a[0,0]"
   ]
  },
  {
   "cell_type": "code",
   "execution_count": 113,
   "id": "6d3fb78b",
   "metadata": {},
   "outputs": [
    {
     "data": {
      "text/plain": [
       "tensor(1)"
      ]
     },
     "execution_count": 113,
     "metadata": {},
     "output_type": "execute_result"
    }
   ],
   "source": [
    "a[0,0,0]"
   ]
  },
  {
   "cell_type": "code",
   "execution_count": 115,
   "id": "d4ec31df",
   "metadata": {},
   "outputs": [
    {
     "data": {
      "text/plain": [
       "tensor(2)"
      ]
     },
     "execution_count": 115,
     "metadata": {},
     "output_type": "execute_result"
    }
   ],
   "source": [
    "a[0,0,1]"
   ]
  },
  {
   "cell_type": "code",
   "execution_count": 117,
   "id": "fb65a1b4",
   "metadata": {},
   "outputs": [
    {
     "ename": "IndexError",
     "evalue": "index 1 is out of bounds for dimension 0 with size 1",
     "output_type": "error",
     "traceback": [
      "\u001b[31m---------------------------------------------------------------------------\u001b[39m",
      "\u001b[31mIndexError\u001b[39m                                Traceback (most recent call last)",
      "\u001b[36mCell\u001b[39m\u001b[36m \u001b[39m\u001b[32mIn[117]\u001b[39m\u001b[32m, line 1\u001b[39m\n\u001b[32m----> \u001b[39m\u001b[32m1\u001b[39m \u001b[43ma\u001b[49m\u001b[43m[\u001b[49m\u001b[32;43m1\u001b[39;49m\u001b[43m,\u001b[49m\u001b[32;43m1\u001b[39;49m\u001b[43m,\u001b[49m\u001b[32;43m1\u001b[39;49m\u001b[43m]\u001b[49m \u001b[38;5;66;03m#Because we only got 1 dimension there \u001b[39;00m\n",
      "\u001b[31mIndexError\u001b[39m: index 1 is out of bounds for dimension 0 with size 1"
     ]
    }
   ],
   "source": [
    "a[1,1,1] #Because we only got 1 dimension there "
   ]
  },
  {
   "cell_type": "code",
   "execution_count": 118,
   "id": "3f3fb2e3",
   "metadata": {},
   "outputs": [
    {
     "data": {
      "text/plain": [
       "tensor(9)"
      ]
     },
     "execution_count": 118,
     "metadata": {},
     "output_type": "execute_result"
    }
   ],
   "source": [
    "a[0,2,2]"
   ]
  },
  {
   "cell_type": "code",
   "execution_count": 119,
   "id": "25c34f16",
   "metadata": {},
   "outputs": [
    {
     "data": {
      "text/plain": [
       "tensor([[1, 2, 3]])"
      ]
     },
     "execution_count": 119,
     "metadata": {},
     "output_type": "execute_result"
    }
   ],
   "source": [
    "#You can also use \":\" to select \"all\" of a target dimension\n",
    "a[:, 0]"
   ]
  },
  {
   "cell_type": "code",
   "execution_count": 121,
   "id": "0ce532c0",
   "metadata": {},
   "outputs": [
    {
     "data": {
      "text/plain": [
       "tensor([[2, 5, 8]])"
      ]
     },
     "execution_count": 121,
     "metadata": {},
     "output_type": "execute_result"
    }
   ],
   "source": [
    "#Get all values of 0th and 1st dimensions but only index 1 of 2nd dimension\n",
    "a[:,:,1]"
   ]
  },
  {
   "cell_type": "code",
   "execution_count": 123,
   "id": "ca716f59",
   "metadata": {},
   "outputs": [
    {
     "data": {
      "text/plain": [
       "tensor([5])"
      ]
     },
     "execution_count": 123,
     "metadata": {},
     "output_type": "execute_result"
    }
   ],
   "source": [
    "#Get all values of 0 dimension but only the 1 index value of 1st and 2nd dimension\n",
    "a[:,1,1]"
   ]
  },
  {
   "cell_type": "code",
   "execution_count": 124,
   "id": "143f8b6e",
   "metadata": {},
   "outputs": [
    {
     "data": {
      "text/plain": [
       "tensor([1, 2, 3])"
      ]
     },
     "execution_count": 124,
     "metadata": {},
     "output_type": "execute_result"
    }
   ],
   "source": [
    "#Get index 0 of 0th and 1st dimension and all values of 2nd dimension\n",
    "a[0,0,:]"
   ]
  },
  {
   "cell_type": "code",
   "execution_count": 130,
   "id": "f115985e",
   "metadata": {},
   "outputs": [
    {
     "data": {
      "text/plain": [
       "tensor([[3, 6, 9]])"
      ]
     },
     "execution_count": 130,
     "metadata": {},
     "output_type": "execute_result"
    }
   ],
   "source": [
    "a[:,:,2]"
   ]
  }
 ],
 "metadata": {
  "kernelspec": {
   "display_name": "Python 3",
   "language": "python",
   "name": "python3"
  },
  "language_info": {
   "codemirror_mode": {
    "name": "ipython",
    "version": 3
   },
   "file_extension": ".py",
   "mimetype": "text/x-python",
   "name": "python",
   "nbconvert_exporter": "python",
   "pygments_lexer": "ipython3",
   "version": "3.11.9"
  }
 },
 "nbformat": 4,
 "nbformat_minor": 5
}
