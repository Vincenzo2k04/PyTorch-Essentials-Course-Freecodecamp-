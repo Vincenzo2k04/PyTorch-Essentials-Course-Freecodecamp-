{
 "cells": [
  {
   "cell_type": "markdown",
   "id": "59310dc0",
   "metadata": {},
   "source": [
    "**PyTorch and NumPy**"
   ]
  },
  {
   "cell_type": "code",
   "execution_count": 1,
   "id": "631acfa5",
   "metadata": {},
   "outputs": [],
   "source": [
    "import torch\n",
    "import numpy as np"
   ]
  },
  {
   "cell_type": "code",
   "execution_count": 12,
   "id": "bdfcff54",
   "metadata": {},
   "outputs": [
    {
     "data": {
      "text/plain": [
       "(array([1., 2., 3., 4., 5., 6., 7.]),\n",
       " tensor([1., 2., 3., 4., 5., 6., 7.], dtype=torch.float64))"
      ]
     },
     "execution_count": 12,
     "metadata": {},
     "output_type": "execute_result"
    }
   ],
   "source": [
    "#NumPy array to tensor\n",
    "array = np.arange(1.0,8.0)\n",
    "tensor = torch.from_numpy(array)\n",
    "array, tensor"
   ]
  },
  {
   "cell_type": "code",
   "execution_count": 13,
   "id": "5bd28c1b",
   "metadata": {},
   "outputs": [
    {
     "data": {
      "text/plain": [
       "torch.float32"
      ]
     },
     "execution_count": 13,
     "metadata": {},
     "output_type": "execute_result"
    }
   ],
   "source": [
    "tensor1 = torch.from_numpy(array).type(torch.float32) #To make dtype as we want\n",
    "tensor1.dtype"
   ]
  },
  {
   "cell_type": "code",
   "execution_count": 14,
   "id": "008d2099",
   "metadata": {},
   "outputs": [
    {
     "data": {
      "text/plain": [
       "(array([2., 3., 4., 5., 6., 7., 8.]),\n",
       " tensor([1., 2., 3., 4., 5., 6., 7.], dtype=torch.float64))"
      ]
     },
     "execution_count": 14,
     "metadata": {},
     "output_type": "execute_result"
    }
   ],
   "source": [
    "#Change the value of array, what will this do to 'tensor'?\n",
    "array = array+1\n",
    "array, tensor"
   ]
  },
  {
   "cell_type": "code",
   "execution_count": 23,
   "id": "b57f5664",
   "metadata": {},
   "outputs": [
    {
     "data": {
      "text/plain": [
       "(tensor([1., 1., 1., 1., 1., 1., 1.]),\n",
       " array([1., 1., 1., 1., 1., 1., 1.], dtype=float32))"
      ]
     },
     "execution_count": 23,
     "metadata": {},
     "output_type": "execute_result"
    }
   ],
   "source": [
    "#Tensor to NumPy array\n",
    "tensor2 = torch.ones(7)\n",
    "numpy_tensor = tensor2.numpy()\n",
    "tensor2, numpy_tensor"
   ]
  },
  {
   "cell_type": "code",
   "execution_count": 24,
   "id": "7649e340",
   "metadata": {},
   "outputs": [
    {
     "data": {
      "text/plain": [
       "dtype('float32')"
      ]
     },
     "execution_count": 24,
     "metadata": {},
     "output_type": "execute_result"
    }
   ],
   "source": [
    "numpy_tensor.dtype"
   ]
  },
  {
   "cell_type": "code",
   "execution_count": 25,
   "id": "653f7e98",
   "metadata": {},
   "outputs": [
    {
     "data": {
      "text/plain": [
       "(tensor([2., 2., 2., 2., 2., 2., 2.]),\n",
       " array([1., 1., 1., 1., 1., 1., 1.], dtype=float32))"
      ]
     },
     "execution_count": 25,
     "metadata": {},
     "output_type": "execute_result"
    }
   ],
   "source": [
    "#Change the tensor, what will happen to 'numpy_tensor'?\n",
    "tensor2 = tensor2 + 1\n",
    "tensor2, numpy_tensor"
   ]
  },
  {
   "cell_type": "markdown",
   "id": "431bbaf3",
   "metadata": {},
   "source": [
    "Reproducbility"
   ]
  },
  {
   "cell_type": "code",
   "execution_count": 34,
   "id": "30da5953",
   "metadata": {},
   "outputs": [
    {
     "data": {
      "text/plain": [
       "tensor([[0.3821, 0.6605, 0.8536],\n",
       "        [0.5932, 0.6367, 0.9826],\n",
       "        [0.2745, 0.6584, 0.2775]])"
      ]
     },
     "execution_count": 34,
     "metadata": {},
     "output_type": "execute_result"
    }
   ],
   "source": [
    "#Doesnt give same output always\n",
    "torch.rand(3,3)"
   ]
  },
  {
   "cell_type": "code",
   "execution_count": 35,
   "id": "d2531d62",
   "metadata": {},
   "outputs": [
    {
     "data": {
      "text/plain": [
       "tensor([[0.8573, 0.8993, 0.0390],\n",
       "        [0.9268, 0.7388, 0.7179],\n",
       "        [0.7058, 0.9156, 0.4340]])"
      ]
     },
     "execution_count": 35,
     "metadata": {},
     "output_type": "execute_result"
    }
   ],
   "source": [
    "torch.rand(3,3)"
   ]
  },
  {
   "cell_type": "code",
   "execution_count": 36,
   "id": "8fafaf17",
   "metadata": {},
   "outputs": [
    {
     "data": {
      "text/plain": [
       "tensor([[0.2961, 0.5166, 0.2517],\n",
       "        [0.6886, 0.0740, 0.8665],\n",
       "        [0.1366, 0.1025, 0.1841]])"
      ]
     },
     "execution_count": 36,
     "metadata": {},
     "output_type": "execute_result"
    }
   ],
   "source": [
    "#Using a seed to flavour the randomness ie. it will always get the same input for rand\n",
    "torch.manual_seed(123)\n",
    "torch.rand(3,3)"
   ]
  },
  {
   "cell_type": "code",
   "execution_count": 37,
   "id": "3cdc8de6",
   "metadata": {},
   "outputs": [
    {
     "data": {
      "text/plain": [
       "tensor([[0.2961, 0.5166, 0.2517],\n",
       "        [0.6886, 0.0740, 0.8665],\n",
       "        [0.1366, 0.1025, 0.1841]])"
      ]
     },
     "execution_count": 37,
     "metadata": {},
     "output_type": "execute_result"
    }
   ],
   "source": [
    "torch.manual_seed(123)\n",
    "torch.rand(3,3)"
   ]
  },
  {
   "cell_type": "code",
   "execution_count": 40,
   "id": "150f2791",
   "metadata": {},
   "outputs": [
    {
     "data": {
      "text/plain": [
       "(tensor([[0.9276, 0.5817, 0.0962],\n",
       "         [0.0014, 0.5745, 0.7127]]),\n",
       " tensor([[0.3646, 0.0531, 0.1347],\n",
       "         [0.9168, 0.8947, 0.1901]]))"
      ]
     },
     "execution_count": 40,
     "metadata": {},
     "output_type": "execute_result"
    }
   ],
   "source": [
    "#Doesnt work the same in this case due to both rand following each other\n",
    "torch.manual_seed(234)\n",
    "tensor_A = torch.rand(2,3)\n",
    "tensor_B = torch.rand(2,3)\n",
    "tensor_A,tensor_B"
   ]
  },
  {
   "cell_type": "code",
   "execution_count": 41,
   "id": "a5e270b3",
   "metadata": {},
   "outputs": [],
   "source": [
    "torch.manual_seed(234)\n",
    "tensor_C = torch.rand(2,3)"
   ]
  },
  {
   "cell_type": "code",
   "execution_count": 42,
   "id": "4039a5cf",
   "metadata": {},
   "outputs": [],
   "source": [
    "torch.manual_seed(234)\n",
    "tensor_D = torch.rand(2,3)"
   ]
  },
  {
   "cell_type": "code",
   "execution_count": 44,
   "id": "200b7f9e",
   "metadata": {},
   "outputs": [
    {
     "data": {
      "text/plain": [
       "tensor([[True, True, True],\n",
       "        [True, True, True]])"
      ]
     },
     "execution_count": 44,
     "metadata": {},
     "output_type": "execute_result"
    }
   ],
   "source": [
    "#Works in this scenario\n",
    "tensor_C == tensor_D"
   ]
  },
  {
   "cell_type": "code",
   "execution_count": 47,
   "id": "1f4010e9",
   "metadata": {},
   "outputs": [
    {
     "data": {
      "text/plain": [
       "tensor([[True, True, True],\n",
       "        [True, True, True]])"
      ]
     },
     "execution_count": 47,
     "metadata": {},
     "output_type": "execute_result"
    }
   ],
   "source": [
    "#This also works\n",
    "torch.manual_seed(123)\n",
    "tensor_E = torch.rand(2,3)\n",
    "torch.manual_seed(123)\n",
    "tensor_F = torch.rand(2,3)\n",
    "tensor_E == tensor_F"
   ]
  },
  {
   "cell_type": "markdown",
   "id": "e639b8ee",
   "metadata": {},
   "source": [
    "Different ways to access a GPU:\n",
    "\n",
    "1.Google Colab\n",
    "\n",
    "2.GPU of own\n",
    "\n",
    "3.Use cloud computing"
   ]
  },
  {
   "cell_type": "code",
   "execution_count": 49,
   "id": "84842e55",
   "metadata": {},
   "outputs": [],
   "source": [
    "device = torch.device(\"cuda\" if torch.cuda.is_available() else \"cpu\")"
   ]
  },
  {
   "cell_type": "code",
   "execution_count": 50,
   "id": "d41fd364",
   "metadata": {},
   "outputs": [
    {
     "data": {
      "text/plain": [
       "device(type='cuda')"
      ]
     },
     "execution_count": 50,
     "metadata": {},
     "output_type": "execute_result"
    }
   ],
   "source": [
    "device"
   ]
  },
  {
   "cell_type": "code",
   "execution_count": 53,
   "id": "6dd29140",
   "metadata": {},
   "outputs": [
    {
     "data": {
      "text/plain": [
       "True"
      ]
     },
     "execution_count": 53,
     "metadata": {},
     "output_type": "execute_result"
    }
   ],
   "source": [
    "torch.cuda.is_available()"
   ]
  }
 ],
 "metadata": {
  "kernelspec": {
   "display_name": "Python 3",
   "language": "python",
   "name": "python3"
  },
  "language_info": {
   "codemirror_mode": {
    "name": "ipython",
    "version": 3
   },
   "file_extension": ".py",
   "mimetype": "text/x-python",
   "name": "python",
   "nbconvert_exporter": "python",
   "pygments_lexer": "ipython3",
   "version": "3.11.9"
  }
 },
 "nbformat": 4,
 "nbformat_minor": 5
}
