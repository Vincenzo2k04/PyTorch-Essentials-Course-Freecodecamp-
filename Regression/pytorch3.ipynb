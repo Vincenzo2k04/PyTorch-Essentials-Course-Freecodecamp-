{
 "cells": [
  {
   "cell_type": "markdown",
   "id": "4ad862d6",
   "metadata": {},
   "source": [
    "**PyTorch workflow**"
   ]
  },
  {
   "cell_type": "code",
   "execution_count": 288,
   "id": "e9ea0a12",
   "metadata": {},
   "outputs": [],
   "source": [
    "import torch\n",
    "from torch import nn\n",
    "import matplotlib.pyplot as plt"
   ]
  },
  {
   "cell_type": "code",
   "execution_count": 289,
   "id": "c76bdcc7",
   "metadata": {},
   "outputs": [
    {
     "name": "stdout",
     "output_type": "stream",
     "text": [
      "Using device: cuda\n"
     ]
    }
   ],
   "source": [
    "device = torch.device(\"cuda\" if torch.cuda.is_available() else \"cpu\")\n",
    "print(f\"Using device: {device}\")"
   ]
  },
  {
   "cell_type": "markdown",
   "id": "859468fd",
   "metadata": {},
   "source": [
    "Data preparing and loading"
   ]
  },
  {
   "cell_type": "code",
   "execution_count": 290,
   "id": "b04f967f",
   "metadata": {},
   "outputs": [
    {
     "data": {
      "text/plain": [
       "(tensor([[0.0000],\n",
       "         [0.0200],\n",
       "         [0.0400],\n",
       "         [0.0600],\n",
       "         [0.0800],\n",
       "         [0.1000],\n",
       "         [0.1200],\n",
       "         [0.1400],\n",
       "         [0.1600],\n",
       "         [0.1800]]),\n",
       " tensor([[0.3000],\n",
       "         [0.3140],\n",
       "         [0.3280],\n",
       "         [0.3420],\n",
       "         [0.3560],\n",
       "         [0.3700],\n",
       "         [0.3840],\n",
       "         [0.3980],\n",
       "         [0.4120],\n",
       "         [0.4260]]))"
      ]
     },
     "execution_count": 290,
     "metadata": {},
     "output_type": "execute_result"
    }
   ],
   "source": [
    "#Create known parameters\n",
    "weight = 0.7\n",
    "bias = 0.3\n",
    "\n",
    "#Create\n",
    "start = 0\n",
    "end = 1\n",
    "step = 0.02\n",
    "X = torch.arange(start, end , step).unsqueeze(dim=1)\n",
    "y = weight * X + bias\n",
    "\n",
    "X[:10], y[:10]"
   ]
  },
  {
   "cell_type": "code",
   "execution_count": 291,
   "id": "842ecfc5",
   "metadata": {},
   "outputs": [
    {
     "data": {
      "text/plain": [
       "(50, 50)"
      ]
     },
     "execution_count": 291,
     "metadata": {},
     "output_type": "execute_result"
    }
   ],
   "source": [
    "len(X), len(y)"
   ]
  },
  {
   "cell_type": "markdown",
   "id": "28b2d6e2",
   "metadata": {},
   "source": [
    "Splitting data into training and test sets\n"
   ]
  },
  {
   "cell_type": "code",
   "execution_count": 292,
   "id": "bdc1e85d",
   "metadata": {},
   "outputs": [
    {
     "data": {
      "text/plain": [
       "40"
      ]
     },
     "execution_count": 292,
     "metadata": {},
     "output_type": "execute_result"
    }
   ],
   "source": [
    "#Create a train-test split\n",
    "train_split = int(0.8 * len(X))\n",
    "train_split"
   ]
  },
  {
   "cell_type": "code",
   "execution_count": 293,
   "id": "60315efb",
   "metadata": {},
   "outputs": [],
   "source": [
    "X_train, y_train = X[:train_split], y[:train_split]\n",
    "X_test, y_test = X[train_split:], y[train_split:]"
   ]
  },
  {
   "cell_type": "code",
   "execution_count": 294,
   "id": "9206463b",
   "metadata": {},
   "outputs": [
    {
     "data": {
      "text/plain": [
       "(40, 40, 10, 10)"
      ]
     },
     "execution_count": 294,
     "metadata": {},
     "output_type": "execute_result"
    }
   ],
   "source": [
    "len(X_train), len(y_train), len(X_test), len(y_test)"
   ]
  },
  {
   "cell_type": "markdown",
   "id": "a89a5f8c",
   "metadata": {},
   "source": [
    "Visualizing the data"
   ]
  },
  {
   "cell_type": "code",
   "execution_count": 295,
   "id": "bde8edc6",
   "metadata": {},
   "outputs": [],
   "source": [
    "def plot_predictions(train_data=X_train,\n",
    "                     train_labels=y_train,\n",
    "                     test_data=X_test,\n",
    "                     test_labels=y_test,\n",
    "                     predictions=None):\n",
    "    \"\"\"\n",
    "    Plots training data, test data, and compares predictions.\n",
    "    \"\"\"\n",
    "    plt.figure(figsize=(10, 7))\n",
    "\n",
    "    # Plot training data in blue after converting to NumPy\n",
    "    plt.scatter(train_data.cpu().numpy(), \n",
    "                train_labels.cpu().numpy(), \n",
    "                c=\"b\", \n",
    "                s=4, \n",
    "                label=\"Training data\")\n",
    "\n",
    "    # Plot testing data in green after converting to NumPy\n",
    "    plt.scatter(test_data.cpu().numpy(), \n",
    "                test_labels.cpu().numpy(), \n",
    "                c=\"g\", \n",
    "                s=4, \n",
    "                label=\"Testing data\")\n",
    "\n",
    "    # Check if there are predictions to plot\n",
    "    if predictions is not None:\n",
    "        # Plot the predictions in red (this line was already correct)\n",
    "        plt.scatter(test_data.cpu().numpy(), \n",
    "                    predictions.cpu().detach().squeeze().numpy(), \n",
    "                    c=\"r\", \n",
    "                    s=4, \n",
    "                    label=\"Predictions\")\n",
    "\n",
    "    # Show the legend with descriptive labels\n",
    "    plt.legend(prop={\"size\": 14})\n",
    "    plt.title(\"Model Results\")\n",
    "    plt.xlabel(\"Features\")\n",
    "    plt.ylabel(\"Values\")\n",
    "    plt.show()"
   ]
  },
  {
   "cell_type": "code",
   "execution_count": 296,
   "id": "bf0e1b60",
   "metadata": {},
   "outputs": [
    {
     "data": {
      "image/png": "[encoded data removed]",
      "text/plain": [
       "<Figure size 1000x700 with 1 Axes>"
      ]
     },
     "metadata": {},
     "output_type": "display_data"
    }
   ],
   "source": [
    "plot_predictions()"
   ]
  },
  {
   "cell_type": "markdown",
   "id": "5717aa3f",
   "metadata": {},
   "source": [
    "Build model"
   ]
  },
  {
   "cell_type": "code",
   "execution_count": 297,
   "id": "667a7f17",
   "metadata": {},
   "outputs": [],
   "source": [
    "#Create a linear regression model class\n",
    "class LinearRegressionModel(nn.Module): #almost everything in pytorch inherits nn.Module\n",
    "    def __init__(self):\n",
    "        super().__init__()\n",
    "        self.weight = nn.Parameter(torch.randn(1, requires_grad=True, dtype=torch.float))\n",
    "        self.bias = nn.Parameter(torch.randn(1, requires_grad=True, dtype=torch.float))\n",
    "    def forward(self, x:torch.Tensor) -> torch.Tensor:\n",
    "        return self.weight * x + self.bias"
   ]
  },
  {
   "cell_type": "code",
   "execution_count": 298,
   "id": "f681f544",
   "metadata": {},
   "outputs": [
    {
     "data": {
      "text/plain": [
       "[Parameter containing:\n",
       " tensor([-0.1115], requires_grad=True),\n",
       " Parameter containing:\n",
       " tensor([0.1204], requires_grad=True)]"
      ]
     },
     "execution_count": 298,
     "metadata": {},
     "output_type": "execute_result"
    }
   ],
   "source": [
    "#Checking the contents of our pytorch model\n",
    "torch.manual_seed(123) #Create a random seed\n",
    "model_0 = LinearRegressionModel() #Create an instance of the model\n",
    "list(model_0.parameters()) #Looking at the parameters\n"
   ]
  },
  {
   "cell_type": "code",
   "execution_count": 299,
   "id": "67f99594",
   "metadata": {},
   "outputs": [
    {
     "data": {
      "text/plain": [
       "OrderedDict([('weight', tensor([-0.1115])), ('bias', tensor([0.1204]))])"
      ]
     },
     "execution_count": 299,
     "metadata": {},
     "output_type": "execute_result"
    }
   ],
   "source": [
    "#List named parameters\n",
    "model_0.state_dict()"
   ]
  },
  {
   "cell_type": "code",
   "execution_count": 300,
   "id": "aafa6c72",
   "metadata": {},
   "outputs": [
    {
     "data": {
      "text/plain": [
       "(0.7, 0.3)"
      ]
     },
     "execution_count": 300,
     "metadata": {},
     "output_type": "execute_result"
    }
   ],
   "source": [
    "weight, bias #In most cases we dont know what ideal values are"
   ]
  },
  {
   "cell_type": "markdown",
   "id": "6fdd6167",
   "metadata": {},
   "source": [
    "Make predictions with model"
   ]
  },
  {
   "cell_type": "code",
   "execution_count": 301,
   "id": "2411935f",
   "metadata": {},
   "outputs": [
    {
     "data": {
      "text/plain": [
       "tensor([[0.0312],\n",
       "        [0.0290],\n",
       "        [0.0267],\n",
       "        [0.0245],\n",
       "        [0.0223],\n",
       "        [0.0200],\n",
       "        [0.0178],\n",
       "        [0.0156],\n",
       "        [0.0134],\n",
       "        [0.0111]])"
      ]
     },
     "execution_count": 301,
     "metadata": {},
     "output_type": "execute_result"
    }
   ],
   "source": [
    "with torch.inference_mode():\n",
    "    y_preds = model_0(X_test)\n",
    "\n",
    "y_preds"
   ]
  },
  {
   "cell_type": "code",
   "execution_count": 302,
   "id": "d24b6d04",
   "metadata": {},
   "outputs": [
    {
     "data": {
      "text/plain": [
       "tensor([[0.8600],\n",
       "        [0.8740],\n",
       "        [0.8880],\n",
       "        [0.9020],\n",
       "        [0.9160],\n",
       "        [0.9300],\n",
       "        [0.9440],\n",
       "        [0.9580],\n",
       "        [0.9720],\n",
       "        [0.9860]])"
      ]
     },
     "execution_count": 302,
     "metadata": {},
     "output_type": "execute_result"
    }
   ],
   "source": [
    "y_test"
   ]
  },
  {
   "cell_type": "code",
   "execution_count": 303,
   "id": "6719bc8f",
   "metadata": {},
   "outputs": [
    {
     "data": {
      "image/png": "[encoded data removed]",
      "text/plain": [
       "<Figure size 1000x700 with 1 Axes>"
      ]
     },
     "metadata": {},
     "output_type": "display_data"
    }
   ],
   "source": [
    "plot_predictions(X_train,y_train,X_test,y_test,y_preds)"
   ]
  },
  {
   "cell_type": "markdown",
   "id": "62513318",
   "metadata": {},
   "source": [
    "Train model:\n",
    "\n",
    "1.Loss function\n",
    "\n",
    "2.Optimizer"
   ]
  },
  {
   "cell_type": "code",
   "execution_count": 304,
   "id": "8fce4db7",
   "metadata": {},
   "outputs": [
    {
     "data": {
      "text/plain": [
       "<generator object Module.parameters at 0x0000018E4138B4C0>"
      ]
     },
     "execution_count": 304,
     "metadata": {},
     "output_type": "execute_result"
    }
   ],
   "source": [
    "model_0.parameters()"
   ]
  },
  {
   "cell_type": "code",
   "execution_count": 305,
   "id": "dfc23dad",
   "metadata": {},
   "outputs": [
    {
     "data": {
      "text/plain": [
       "[Parameter containing:\n",
       " tensor([-0.1115], requires_grad=True),\n",
       " Parameter containing:\n",
       " tensor([0.1204], requires_grad=True)]"
      ]
     },
     "execution_count": 305,
     "metadata": {},
     "output_type": "execute_result"
    }
   ],
   "source": [
    "list(model_0.parameters())"
   ]
  },
  {
   "cell_type": "code",
   "execution_count": 306,
   "id": "2a3a8c14",
   "metadata": {},
   "outputs": [
    {
     "data": {
      "text/plain": [
       "OrderedDict([('weight', tensor([-0.1115])), ('bias', tensor([0.1204]))])"
      ]
     },
     "execution_count": 306,
     "metadata": {},
     "output_type": "execute_result"
    }
   ],
   "source": [
    "model_0.state_dict()"
   ]
  },
  {
   "cell_type": "code",
   "execution_count": 307,
   "id": "0e44e2f1",
   "metadata": {},
   "outputs": [],
   "source": [
    "#MAE_loss = torch.mean(torch.abs(y_preds-y_test)) (One version to use)\n",
    "#Setup for a loss function\n",
    "loss_fn = nn.L1Loss() #Preferred version\n",
    "#Setup for an optimizer function\n",
    "optimizer = torch.optim.SGD(params=model_0.parameters(),\n",
    "                            lr=0.01) #Stochastic gradient descent"
   ]
  },
  {
   "cell_type": "markdown",
   "id": "4dd69642",
   "metadata": {},
   "source": [
    "Building a training loop in PyTorch"
   ]
  },
  {
   "cell_type": "code",
   "execution_count": 308,
   "id": "cf48c033",
   "metadata": {},
   "outputs": [
    {
     "name": "stdout",
     "output_type": "stream",
     "text": [
      "OrderedDict({'weight': tensor([-0.0725]), 'bias': tensor([0.2204])})\n"
     ]
    }
   ],
   "source": [
    "torch.manual_seed(123)\n",
    "epochs = 10\n",
    "#Loop throught the data\n",
    "for epoch in range(epochs):\n",
    "    #Set the model to training mode\n",
    "    model_0.train() #Train mode in PyTorch sets all parameters that require gradients to require gradients\n",
    "    #Forward Pass\n",
    "    y_preds = model_0(X_train)\n",
    "    #Calculate loss (MAE)\n",
    "    loss = loss_fn(y_preds,y_train)\n",
    "    #Optimizer zero grad\n",
    "    optimizer.zero_grad()\n",
    "    #Perform backpropagation on the loss w.r.t parameters of the model\n",
    "    loss.backward()\n",
    "    #Step the optimizer (perform gradient descent)\n",
    "    optimizer.step()\n",
    "    \n",
    "    #Testing\n",
    "    model_0.eval() #Turns off gradient tracking\n",
    "\n",
    "#Print out model state dict\n",
    "print(model_0.state_dict())"
   ]
  },
  {
   "cell_type": "code",
   "execution_count": 309,
   "id": "07c454dd",
   "metadata": {},
   "outputs": [
    {
     "data": {
      "text/plain": [
       "OrderedDict([('weight', tensor([-0.0725])), ('bias', tensor([0.2204]))])"
      ]
     },
     "execution_count": 309,
     "metadata": {},
     "output_type": "execute_result"
    }
   ],
   "source": [
    "model_0.state_dict()"
   ]
  },
  {
   "cell_type": "code",
   "execution_count": 310,
   "id": "637ebecd",
   "metadata": {},
   "outputs": [
    {
     "name": "stdout",
     "output_type": "stream",
     "text": [
      "OrderedDict({'weight': tensor([-0.0335]), 'bias': tensor([0.3194])})\n"
     ]
    }
   ],
   "source": [
    "torch.manual_seed(123)\n",
    "epochs = 10\n",
    "#Loop throught the data\n",
    "for epoch in range(epochs):\n",
    "    #Set the model to training mode\n",
    "    model_0.train() #Train mode in PyTorch sets all parameters that require gradients to require gradients\n",
    "    #Forward Pass\n",
    "    y_preds = model_0(X_train)\n",
    "    #Calculate loss (MAE)\n",
    "    loss = loss_fn(y_preds,y_train)\n",
    "    #Optimizer zero grad\n",
    "    optimizer.zero_grad()\n",
    "    #Perform backpropagation on the loss w.r.t parameters of the model\n",
    "    loss.backward()\n",
    "    #Step the optimizer (perform gradient descent)\n",
    "    optimizer.step()\n",
    "    \n",
    "    #Testing\n",
    "    model_0.eval() #Turns off gradient tracking\n",
    "    \n",
    "#Print out model state dict\n",
    "print(model_0.state_dict())"
   ]
  },
  {
   "cell_type": "code",
   "execution_count": 311,
   "id": "5174ecb6",
   "metadata": {},
   "outputs": [
    {
     "data": {
      "text/plain": [
       "OrderedDict([('weight', tensor([-0.0335])), ('bias', tensor([0.3194]))])"
      ]
     },
     "execution_count": 311,
     "metadata": {},
     "output_type": "execute_result"
    }
   ],
   "source": [
    "model_0.state_dict()"
   ]
  },
  {
   "cell_type": "code",
   "execution_count": 312,
   "id": "dc738086",
   "metadata": {},
   "outputs": [
    {
     "name": "stdout",
     "output_type": "stream",
     "text": [
      "OrderedDict({'weight': tensor([0.0047]), 'bias': tensor([0.3974])})\n"
     ]
    }
   ],
   "source": [
    "torch.manual_seed(123)\n",
    "epochs = 10\n",
    "#Loop throught the data\n",
    "for epoch in range(epochs):\n",
    "    #Set the model to training mode\n",
    "    model_0.train() #Train mode in PyTorch sets all parameters that require gradients to require gradients\n",
    "    #Forward Pass\n",
    "    y_preds = model_0(X_train)\n",
    "    #Calculate loss (MAE)\n",
    "    loss = loss_fn(y_preds,y_train)\n",
    "    #Optimizer zero grad\n",
    "    optimizer.zero_grad()\n",
    "    #Perform backpropagation on the loss w.r.t parameters of the model\n",
    "    loss.backward()\n",
    "    #Step the optimizer (perform gradient descent)\n",
    "    optimizer.step()\n",
    "    \n",
    "    #Testing\n",
    "    model_0.eval() #Turns off gradient tracking\n",
    "    \n",
    "#Print out model state dict\n",
    "print(model_0.state_dict())"
   ]
  },
  {
   "cell_type": "code",
   "execution_count": 313,
   "id": "7c8a590a",
   "metadata": {},
   "outputs": [
    {
     "data": {
      "text/plain": [
       "OrderedDict([('weight', tensor([0.0047])), ('bias', tensor([0.3974]))])"
      ]
     },
     "execution_count": 313,
     "metadata": {},
     "output_type": "execute_result"
    }
   ],
   "source": [
    "model_0.state_dict()"
   ]
  },
  {
   "cell_type": "code",
   "execution_count": 314,
   "id": "e32e86cf",
   "metadata": {},
   "outputs": [
    {
     "name": "stdout",
     "output_type": "stream",
     "text": [
      "OrderedDict({'weight': tensor([0.6964]), 'bias': tensor([0.3064])})\n"
     ]
    }
   ],
   "source": [
    "torch.manual_seed(123)\n",
    "epochs = 1000\n",
    "#Loop throught the data\n",
    "for epoch in range(epochs):\n",
    "    #Set the model to training mode\n",
    "    model_0.train() #Train mode in PyTorch sets all parameters that require gradients to require gradients\n",
    "    #Forward Pass\n",
    "    y_preds = model_0(X_train)\n",
    "    #Calculate loss (MAE)\n",
    "    loss = loss_fn(y_preds,y_train)\n",
    "    #Optimizer zero grad\n",
    "    optimizer.zero_grad()\n",
    "    #Perform backpropagation on the loss w.r.t parameters of the model\n",
    "    loss.backward()\n",
    "    #Step the optimizer (perform gradient descent)\n",
    "    optimizer.step()\n",
    "    \n",
    "    #Testing\n",
    "    model_0.eval() #Turns off gradient tracking\n",
    "    \n",
    "#Print out model state dict\n",
    "print(model_0.state_dict())"
   ]
  },
  {
   "cell_type": "code",
   "execution_count": 315,
   "id": "c45e5bab",
   "metadata": {},
   "outputs": [
    {
     "name": "stdout",
     "output_type": "stream",
     "text": [
      "OrderedDict({'weight': tensor([0.6964]), 'bias': tensor([0.3064])})\n"
     ]
    }
   ],
   "source": [
    "torch.manual_seed(123)\n",
    "epochs = 100000\n",
    "#Loop throught the data\n",
    "for epoch in range(epochs):\n",
    "    #Set the model to training mode\n",
    "    model_0.train() #Train mode in PyTorch sets all parameters that require gradients to require gradients\n",
    "    #Forward Pass\n",
    "    y_preds = model_0(X_train)\n",
    "    #Calculate loss (MAE)\n",
    "    loss = loss_fn(y_train,y_preds)\n",
    "    #Optimizer zero grad\n",
    "    optimizer.zero_grad()\n",
    "    #Perform backpropagation on the loss w.r.t parameters of the model\n",
    "    loss.backward()\n",
    "    #Step the optimizer (perform gradient descent)\n",
    "    optimizer.step()\n",
    "    \n",
    "    #Testing\n",
    "    model_0.eval() #Turns off gradient tracking\n",
    "    \n",
    "#Print out model state dict\n",
    "print(model_0.state_dict())"
   ]
  },
  {
   "cell_type": "code",
   "execution_count": 316,
   "id": "771b54e7",
   "metadata": {},
   "outputs": [
    {
     "data": {
      "text/plain": [
       "OrderedDict([('weight', tensor([0.6964])), ('bias', tensor([0.3064]))])"
      ]
     },
     "execution_count": 316,
     "metadata": {},
     "output_type": "execute_result"
    }
   ],
   "source": [
    "model_0.state_dict() #Hence we can be almost 100% sure that this is the best we can get"
   ]
  },
  {
   "cell_type": "code",
   "execution_count": 317,
   "id": "108489a1",
   "metadata": {},
   "outputs": [],
   "source": [
    "with torch.inference_mode():\n",
    "    y_preds_new = model_0(X_test)"
   ]
  },
  {
   "cell_type": "code",
   "execution_count": 318,
   "id": "f5a67e9a",
   "metadata": {},
   "outputs": [
    {
     "data": {
      "text/plain": [
       "torch.Size([10, 1])"
      ]
     },
     "execution_count": 318,
     "metadata": {},
     "output_type": "execute_result"
    }
   ],
   "source": [
    "X_test.shape"
   ]
  },
  {
   "cell_type": "code",
   "execution_count": 319,
   "id": "01868d66",
   "metadata": {},
   "outputs": [
    {
     "data": {
      "text/plain": [
       "torch.Size([40, 1])"
      ]
     },
     "execution_count": 319,
     "metadata": {},
     "output_type": "execute_result"
    }
   ],
   "source": [
    "y_preds.shape"
   ]
  },
  {
   "cell_type": "code",
   "execution_count": 320,
   "id": "d35b3d5a",
   "metadata": {},
   "outputs": [
    {
     "data": {
      "image/png": "[encoded data removed]",
      "text/plain": [
       "<Figure size 1000x700 with 1 Axes>"
      ]
     },
     "metadata": {},
     "output_type": "display_data"
    }
   ],
   "source": [
    "plot_predictions(X_train,y_train,X_test,y_test,y_preds_new)"
   ]
  },
  {
   "cell_type": "code",
   "execution_count": 321,
   "id": "ddcf5963",
   "metadata": {},
   "outputs": [
    {
     "name": "stdout",
     "output_type": "stream",
     "text": [
      "Epoch: 0 | Loss: 0.0049704695120453835 | Test Loss: 0.010288244113326073\n",
      "Epoch: 10 | Loss: 0.0049704695120453835 | Test Loss: 0.010288244113326073\n",
      "Epoch: 20 | Loss: 0.0049704695120453835 | Test Loss: 0.010288244113326073\n",
      "Epoch: 30 | Loss: 0.0049704695120453835 | Test Loss: 0.010288244113326073\n",
      "Epoch: 40 | Loss: 0.0049704695120453835 | Test Loss: 0.010288244113326073\n",
      "Epoch: 50 | Loss: 0.0049704695120453835 | Test Loss: 0.010288244113326073\n",
      "Epoch: 60 | Loss: 0.0049704695120453835 | Test Loss: 0.010288244113326073\n",
      "Epoch: 70 | Loss: 0.0049704695120453835 | Test Loss: 0.010288244113326073\n",
      "Epoch: 80 | Loss: 0.0049704695120453835 | Test Loss: 0.010288244113326073\n",
      "Epoch: 90 | Loss: 0.0049704695120453835 | Test Loss: 0.010288244113326073\n",
      "OrderedDict({'weight': tensor([0.6964]), 'bias': tensor([0.3064])})\n"
     ]
    }
   ],
   "source": [
    "#Testing loop\n",
    "torch.manual_seed(123)\n",
    "epochs = 100\n",
    "\n",
    "#Tracking experiments\n",
    "epoch_count = []\n",
    "loss_values = []\n",
    "test_loss_values = []\n",
    "\n",
    "#Loop throught the data\n",
    "for epoch in range(epochs):\n",
    "    #Set the model to training mode\n",
    "    model_0.train() #Train mode in PyTorch sets all parameters that require gradients to require gradients\n",
    "    #Forward Pass\n",
    "    y_preds = model_0(X_train)\n",
    "    #Calculate loss (MAE)\n",
    "    loss = loss_fn(y_train,y_preds)\n",
    "    #Optimizer zero grad\n",
    "    optimizer.zero_grad()\n",
    "    #Perform backpropagation on the loss w.r.t parameters of the model\n",
    "    loss.backward()\n",
    "    #Step the optimizer (perform gradient descent)\n",
    "    optimizer.step()\n",
    "    \n",
    "    #Testing\n",
    "    model_0.eval() #Turns off gradient tracking\n",
    "    with torch.inference_mode(): #turns off gradient tracking\n",
    "        #Forward pass\n",
    "        test_pred = model_0(X_test)\n",
    "        #calculate the loss\n",
    "        test_loss = loss_fn(test_pred,y_test)\n",
    "\n",
    "    if epoch % 10 == 0:\n",
    "        epoch_count.append(epoch)\n",
    "        loss_values.append(loss)\n",
    "        test_loss_values.append(test_loss)\n",
    "        print(f\"Epoch: {epoch} | Loss: {loss} | Test Loss: {test_loss}\") \n",
    "           \n",
    "#Print out model state dict\n",
    "print(model_0.state_dict())"
   ]
  },
  {
   "cell_type": "markdown",
   "id": "62a20233",
   "metadata": {},
   "source": [
    "Saving & Loading the model"
   ]
  },
  {
   "cell_type": "code",
   "execution_count": 323,
   "id": "d94ff20d",
   "metadata": {},
   "outputs": [
    {
     "data": {
      "text/plain": [
       "OrderedDict([('weight', tensor([0.6964])), ('bias', tensor([0.3064]))])"
      ]
     },
     "execution_count": 323,
     "metadata": {},
     "output_type": "execute_result"
    }
   ],
   "source": [
    "model_0.state_dict()"
   ]
  },
  {
   "cell_type": "code",
   "execution_count": 325,
   "id": "67a6572f",
   "metadata": {},
   "outputs": [
    {
     "name": "stdout",
     "output_type": "stream",
     "text": [
      "Saving the model to -> models\\LinearRegressionModel_Model_0.pth\n"
     ]
    }
   ],
   "source": [
    "#Saving our pytorch model\n",
    "from pathlib import Path\n",
    "\n",
    "#Create models directory\n",
    "Model_path = Path(\"models\")\n",
    "Model_path.mkdir(parents=True, exist_ok=True)\n",
    "\n",
    "#Create model save path\n",
    "Model_name = \"LinearRegressionModel_Model_0.pth\"\n",
    "Model_save_path = Model_path / Model_name\n",
    "\n",
    "#Save the model state dict (suggested method rather than saving whole model)\n",
    "print(f\"Saving the model to -> {Model_save_path}\")\n",
    "torch.save(model_0.state_dict(),Model_save_path)"
   ]
  },
  {
   "cell_type": "code",
   "execution_count": 328,
   "id": "9c683b53",
   "metadata": {},
   "outputs": [
    {
     "name": "stderr",
     "output_type": "stream",
     "text": [
      "C:\\Users\\lenovo\\AppData\\Local\\Temp\\ipykernel_356\\3073565233.py:5: FutureWarning: You are using `torch.load` with `weights_only=False` (the current default value), which uses the default pickle module implicitly. It is possible to construct malicious pickle data which will execute arbitrary code during unpickling (See https://github.com/pytorch/pytorch/blob/main/SECURITY.md#untrusted-models for more details). In a future release, the default value for `weights_only` will be flipped to `True`. This limits the functions that could be executed during unpickling. Arbitrary objects will no longer be allowed to be loaded via this mode unless they are explicitly allowlisted by the user via `torch.serialization.add_safe_globals`. We recommend you start setting `weights_only=True` for any use case where you don't have full control of the loaded file. Please open an issue on GitHub for any issues related to this experimental feature.\n",
      "  loaded_model_0.load_state_dict(torch.load(\"E:\\\\PyTorch\\\\models\\\\LinearRegressionModel_Model_0.pth\"))\n"
     ]
    },
    {
     "data": {
      "text/plain": [
       "<All keys matched successfully>"
      ]
     },
     "execution_count": 328,
     "metadata": {},
     "output_type": "execute_result"
    }
   ],
   "source": [
    "#Loading a pytorch model\n",
    "#To load in a saved state_dict we have to instantiate a new instance of our model class\n",
    "loaded_model_0 = LinearRegressionModel()\n",
    "#Load the saved state_dict of model_0 (this will update the new instance with updated parameters)\n",
    "loaded_model_0.load_state_dict(torch.load(\"E:\\\\PyTorch\\\\models\\\\LinearRegressionModel_Model_0.pth\"))"
   ]
  },
  {
   "cell_type": "code",
   "execution_count": 329,
   "id": "39e75a57",
   "metadata": {},
   "outputs": [
    {
     "data": {
      "text/plain": [
       "OrderedDict([('weight', tensor([0.6964])), ('bias', tensor([0.3064]))])"
      ]
     },
     "execution_count": 329,
     "metadata": {},
     "output_type": "execute_result"
    }
   ],
   "source": [
    "loaded_model_0.state_dict()"
   ]
  },
  {
   "cell_type": "code",
   "execution_count": 330,
   "id": "722ba3eb",
   "metadata": {},
   "outputs": [
    {
     "data": {
      "text/plain": [
       "tensor([[0.8635],\n",
       "        [0.8774],\n",
       "        [0.8914],\n",
       "        [0.9053],\n",
       "        [0.9192],\n",
       "        [0.9331],\n",
       "        [0.9471],\n",
       "        [0.9610],\n",
       "        [0.9749],\n",
       "        [0.9889]])"
      ]
     },
     "execution_count": 330,
     "metadata": {},
     "output_type": "execute_result"
    }
   ],
   "source": [
    "#Make some predictions with loaded model\n",
    "loaded_model_0.eval()\n",
    "with torch.inference_mode():\n",
    "    loaded_model_preds = loaded_model_0(X_test)\n",
    "loaded_model_preds"
   ]
  },
  {
   "cell_type": "code",
   "execution_count": 331,
   "id": "6bc0de6d",
   "metadata": {},
   "outputs": [
    {
     "data": {
      "text/plain": [
       "tensor([[True],\n",
       "        [True],\n",
       "        [True],\n",
       "        [True],\n",
       "        [True],\n",
       "        [True],\n",
       "        [True],\n",
       "        [True],\n",
       "        [True],\n",
       "        [True]])"
      ]
     },
     "execution_count": 331,
     "metadata": {},
     "output_type": "execute_result"
    }
   ],
   "source": [
    "y_preds_new == loaded_model_preds"
   ]
  }
 ],
 "metadata": {
  "kernelspec": {
   "display_name": "Python 3",
   "language": "python",
   "name": "python3"
  },
  "language_info": {
   "codemirror_mode": {
    "name": "ipython",
    "version": 3
   },
   "file_extension": ".py",
   "mimetype": "text/x-python",
   "name": "python",
   "nbconvert_exporter": "python",
   "pygments_lexer": "ipython3",
   "version": "3.12.10"
  }
 },
 "nbformat": 4,
 "nbformat_minor": 5
}
